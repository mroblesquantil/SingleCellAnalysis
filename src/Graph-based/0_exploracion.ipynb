{
 "cells": [
  {
   "cell_type": "markdown",
   "metadata": {},
   "source": [
    "# Librerías"
   ]
  },
  {
   "cell_type": "code",
   "execution_count": null,
   "metadata": {},
   "outputs": [],
   "source": [
    "from sklearn.neighbors import kneighbors_graph\n",
    "from scipy.stats import pearsonr, spearmanr\n",
    "from scipy.optimize import linear_sum_assignment\n",
    "from sklearn.metrics import (calinski_harabasz_score, davies_bouldin_score,\n",
    "                             silhouette_score, normalized_mutual_info_score, adjusted_rand_score)\n",
    "from sklearn import metrics\n",
    "from tqdm import tqdm\n",
    "import networkx as nx\n",
    "import pandas as pd\n",
    "import scanpy as sc\n",
    "import numpy as np\n",
    "import h5py "
   ]
  },
  {
   "cell_type": "code",
   "execution_count": null,
   "metadata": {},
   "outputs": [],
   "source": [
    "def normalize(adata, filter_min_counts=True, size_factors=True, normalize_input=True, logtrans_input=True):\n",
    "    if filter_min_counts:\n",
    "        sc.pp.filter_genes(adata, min_counts=1)\n",
    "        sc.pp.filter_cells(adata, min_counts=1)\n",
    "\n",
    "    if size_factors or normalize_input or logtrans_input:\n",
    "        adata.raw = adata.copy()\n",
    "    else:\n",
    "        adata.raw = adata\n",
    "\n",
    "    if size_factors:\n",
    "        sc.pp.normalize_per_cell(adata)\n",
    "        adata.obs['size_factors'] = adata.obs.n_counts / np.median(adata.obs.n_counts)\n",
    "    else:\n",
    "        adata.obs['size_factors'] = 1.0\n",
    "\n",
    "    if logtrans_input:\n",
    "        sc.pp.log1p(adata)\n",
    "\n",
    "    if normalize_input:\n",
    "        sc.pp.scale(adata)\n",
    "\n",
    "    return adata"
   ]
  },
  {
   "cell_type": "code",
   "execution_count": null,
   "metadata": {},
   "outputs": [],
   "source": [
    "def cluster_acc(y_true, y_pred):\n",
    "    \"\"\"\n",
    "    Calculate clustering accuracy. Require scikit-learn installed\n",
    "    # Arguments\n",
    "        y: true labels, numpy.array with shape `(n_samples,)`\n",
    "        y_pred: predicted labels, numpy.array with shape `(n_samples,)`\n",
    "    # Return\n",
    "        accuracy, in [0,1]\n",
    "    \"\"\"\n",
    "    y_true = y_true.astype(np.int64)\n",
    "    y_pred = y_pred.astype(np.int64)\n",
    "    \n",
    "    assert y_pred.size == y_true.size\n",
    "    D = max(y_pred.max(), y_true.max()) + 1\n",
    "    w = np.zeros((D, D), dtype=np.int64)\n",
    "\n",
    "    for i in range(y_pred.size):\n",
    "        w[y_pred[i], y_true[i]] += 1\n",
    "    ind = linear_sum_assignment(w.max() - w)\n",
    "    ind = np.asarray(ind)\n",
    "    ind = np.transpose(ind)\n",
    "    return sum([w[i, j] for i, j in ind]) * 1.0 / y_pred.size"
   ]
  },
  {
   "cell_type": "markdown",
   "metadata": {},
   "source": [
    "# Lectura de datos"
   ]
  },
  {
   "cell_type": "code",
   "execution_count": null,
   "metadata": {},
   "outputs": [
    {
     "name": "stdout",
     "output_type": "stream",
     "text": [
      "Dimensiones: (8444, 4999)\n"
     ]
    }
   ],
   "source": [
    "with h5py.File('../../data/HumanLiver_counts_top5000.h5') as file:\n",
    "    X = np.array(file['X'])\n",
    "    y = np.array(file['Y'])\n",
    "\n",
    "adata = sc.AnnData(X)\n",
    "adata.obs['Group'] = y\n",
    "\n",
    "print(f'Dimensiones: {adata.X.shape}')"
   ]
  },
  {
   "cell_type": "markdown",
   "metadata": {},
   "source": [
    "# Procesamiento"
   ]
  },
  {
   "cell_type": "code",
   "execution_count": null,
   "metadata": {},
   "outputs": [],
   "source": [
    "adata = normalize(adata, size_factors=True, normalize_input=True, logtrans_input=True)"
   ]
  },
  {
   "cell_type": "markdown",
   "metadata": {},
   "source": [
    "# Clusterización"
   ]
  },
  {
   "cell_type": "code",
   "execution_count": 141,
   "metadata": {},
   "outputs": [],
   "source": [
    "def clustering(adata, N, resolution, correlation_function): \n",
    "    knn_graph = kneighbors_graph(adata.X, n_neighbors = N)\n",
    "\n",
    "    for i,j in zip(knn_graph.nonzero()[0], knn_graph.nonzero()[1]):\n",
    "        # Seleccionamos las células \n",
    "        cell_i, cell_j = X[i,:], X[j,:]\n",
    "\n",
    "        # Calculamos la correlación\n",
    "        correlacion = correlation_function(cell_i, cell_j).statistic\n",
    "        knn_graph[i,j] = correlacion\n",
    "    \n",
    "    # Creación del grafo\n",
    "    knn_graph = nx.from_scipy_sparse_array(knn_graph)\n",
    "    communities = nx.community.louvain_communities(knn_graph, seed=123, resolution = resolution)\n",
    "\n",
    "    # Predicción\n",
    "    y_pred = np.zeros(len(knn_graph.nodes))\n",
    "\n",
    "    for c in range(len(communities)):\n",
    "        com_c = communities[c]\n",
    "        for i in com_c:\n",
    "            y_pred[i] = c\n",
    "\n",
    "    return y_pred"
   ]
  },
  {
   "cell_type": "code",
   "execution_count": 142,
   "metadata": {},
   "outputs": [],
   "source": [
    "def cluster_metrics(X, y, y_pred):\n",
    "    # Supervised\n",
    "    acc = np.round(cluster_acc(y, y_pred), 5)\n",
    "    nmi = np.round(normalized_mutual_info_score(y, y_pred), 5)\n",
    "    ari = np.round(adjusted_rand_score(y, y_pred), 5)\n",
    "    \n",
    "    # Unsupervised\n",
    "    chs = np.round(calinski_harabasz_score(X, y_pred), 5)\n",
    "    dbs = np.round(davies_bouldin_score(X, y_pred), 5)\n",
    "    ss = np.round(silhouette_score(X, y_pred), 5)\n",
    "\n",
    "    metrics = {'acc': acc, 'nmi': nmi, 'ari': ari,\n",
    "               'chs': chs, 'dbs': dbs, 'ss': ss}\n",
    "    \n",
    "    return metrics"
   ]
  },
  {
   "cell_type": "markdown",
   "metadata": {},
   "source": [
    "# Búsqueda de hiperparámetros"
   ]
  },
  {
   "cell_type": "code",
   "execution_count": 143,
   "metadata": {},
   "outputs": [
    {
     "name": "stderr",
     "output_type": "stream",
     "text": [
      "  0%|          | 0/10 [00:00<?, ?it/s]"
     ]
    },
    {
     "name": "stdout",
     "output_type": "stream",
     "text": [
      "5 0.1 0\n",
      "5 0.2 0\n",
      "5 0.30000000000000004 0\n",
      "5 0.4 0\n",
      "5 0.5 0\n",
      "5 0.6000000000000001 0\n",
      "5 0.7000000000000001 0\n",
      "5 0.8 0\n",
      "5 0.9 0\n",
      "5 1.0 0\n"
     ]
    },
    {
     "name": "stderr",
     "output_type": "stream",
     "text": [
      " 10%|█         | 1/10 [04:24<39:39, 264.34s/it]"
     ]
    },
    {
     "name": "stdout",
     "output_type": "stream",
     "text": [
      "7 0.1 0\n",
      "7 0.2 0\n",
      "7 0.30000000000000004 0\n",
      "7 0.4 0\n",
      "7 0.5 0\n",
      "7 0.6000000000000001 0\n",
      "7 0.7000000000000001 0\n",
      "7 0.8 0\n",
      "7 0.9 0\n",
      "7 1.0 0\n"
     ]
    },
    {
     "name": "stderr",
     "output_type": "stream",
     "text": [
      " 20%|██        | 2/10 [09:40<39:19, 294.91s/it]"
     ]
    },
    {
     "name": "stdout",
     "output_type": "stream",
     "text": [
      "9 0.1 0\n",
      "9 0.2 0\n",
      "9 0.30000000000000004 0\n",
      "9 0.4 0\n",
      "9 0.5 0\n",
      "9 0.6000000000000001 0\n",
      "9 0.7000000000000001 0\n",
      "9 0.8 0\n",
      "9 0.9 0\n",
      "9 1.0 0\n"
     ]
    },
    {
     "name": "stderr",
     "output_type": "stream",
     "text": [
      " 30%|███       | 3/10 [15:44<38:04, 326.31s/it]"
     ]
    },
    {
     "name": "stdout",
     "output_type": "stream",
     "text": [
      "11 0.1 0\n",
      "11 0.2 0\n",
      "11 0.30000000000000004 0\n",
      "11 0.4 0\n",
      "11 0.5 0\n",
      "11 0.6000000000000001 0\n",
      "11 0.7000000000000001 0\n",
      "11 0.8 0\n",
      "11 0.9 0\n",
      "11 1.0 0\n"
     ]
    },
    {
     "name": "stderr",
     "output_type": "stream",
     "text": [
      " 40%|████      | 4/10 [22:41<36:12, 362.12s/it]"
     ]
    },
    {
     "name": "stdout",
     "output_type": "stream",
     "text": [
      "13 0.1 0\n",
      "13 0.2 0\n",
      "13 0.30000000000000004 0\n",
      "13 0.4 0\n",
      "13 0.5 0\n",
      "13 0.6000000000000001 0\n",
      "13 0.7000000000000001 0\n",
      "13 0.8 0\n",
      "13 0.9 0\n",
      "13 1.0 0\n"
     ]
    },
    {
     "name": "stderr",
     "output_type": "stream",
     "text": [
      " 50%|█████     | 5/10 [30:22<33:08, 397.72s/it]"
     ]
    },
    {
     "name": "stdout",
     "output_type": "stream",
     "text": [
      "15 0.1 0\n",
      "15 0.2 0\n",
      "15 0.30000000000000004 0\n",
      "15 0.4 0\n",
      "15 0.5 0\n",
      "15 0.6000000000000001 0\n",
      "15 0.7000000000000001 0\n",
      "15 0.8 0\n",
      "15 0.9 0\n",
      "15 1.0 0\n"
     ]
    },
    {
     "name": "stderr",
     "output_type": "stream",
     "text": [
      " 60%|██████    | 6/10 [38:55<29:08, 437.01s/it]"
     ]
    },
    {
     "name": "stdout",
     "output_type": "stream",
     "text": [
      "17 0.1 0\n",
      "17 0.2 0\n",
      "17 0.30000000000000004 0\n",
      "17 0.4 0\n",
      "17 0.5 0\n",
      "17 0.6000000000000001 0\n",
      "17 0.7000000000000001 0\n",
      "17 0.8 0\n",
      "17 0.9 0\n",
      "17 1.0 0\n"
     ]
    },
    {
     "name": "stderr",
     "output_type": "stream",
     "text": [
      " 70%|███████   | 7/10 [48:23<23:59, 479.97s/it]"
     ]
    },
    {
     "name": "stdout",
     "output_type": "stream",
     "text": [
      "19 0.1 0\n",
      "19 0.2 0\n",
      "19 0.30000000000000004 0\n",
      "19 0.4 0\n",
      "19 0.5 0\n",
      "19 0.6000000000000001 0\n",
      "19 0.7000000000000001 0\n",
      "19 0.8 0\n",
      "19 0.9 0\n",
      "19 1.0 0\n"
     ]
    },
    {
     "name": "stderr",
     "output_type": "stream",
     "text": [
      " 80%|████████  | 8/10 [58:45<17:30, 525.11s/it]"
     ]
    },
    {
     "name": "stdout",
     "output_type": "stream",
     "text": [
      "21 0.1 0\n",
      "21 0.2 0\n",
      "21 0.30000000000000004 0\n",
      "21 0.4 0\n",
      "21 0.5 0\n",
      "21 0.6000000000000001 0\n",
      "21 0.7000000000000001 0\n",
      "21 0.8 0\n",
      "21 0.9 0\n",
      "21 1.0 0\n"
     ]
    },
    {
     "name": "stderr",
     "output_type": "stream",
     "text": [
      " 90%|█████████ | 9/10 [1:10:05<09:33, 573.43s/it]"
     ]
    },
    {
     "name": "stdout",
     "output_type": "stream",
     "text": [
      "23 0.1 0\n",
      "23 0.2 0\n",
      "23 0.30000000000000004 0\n",
      "23 0.4 0\n",
      "23 0.5 0\n",
      "23 0.6000000000000001 0\n",
      "23 0.7000000000000001 0\n",
      "23 0.8 0\n",
      "23 0.9 0\n",
      "23 1.0 0\n"
     ]
    },
    {
     "name": "stderr",
     "output_type": "stream",
     "text": [
      "100%|██████████| 10/10 [1:22:55<00:00, 497.51s/it]\n"
     ]
    },
    {
     "data": {
      "text/html": [
       "<div>\n",
       "<style scoped>\n",
       "    .dataframe tbody tr th:only-of-type {\n",
       "        vertical-align: middle;\n",
       "    }\n",
       "\n",
       "    .dataframe tbody tr th {\n",
       "        vertical-align: top;\n",
       "    }\n",
       "\n",
       "    .dataframe thead th {\n",
       "        text-align: right;\n",
       "    }\n",
       "</style>\n",
       "<table border=\"1\" class=\"dataframe\">\n",
       "  <thead>\n",
       "    <tr style=\"text-align: right;\">\n",
       "      <th></th>\n",
       "      <th>acc</th>\n",
       "      <th>nmi</th>\n",
       "      <th>ari</th>\n",
       "      <th>chs</th>\n",
       "      <th>dbs</th>\n",
       "      <th>ss</th>\n",
       "    </tr>\n",
       "  </thead>\n",
       "  <tbody>\n",
       "    <tr>\n",
       "      <th>(5, 0.1, 0)</th>\n",
       "      <td>0.61357</td>\n",
       "      <td>0.42094</td>\n",
       "      <td>0.24458</td>\n",
       "      <td>64.85919</td>\n",
       "      <td>3.81025</td>\n",
       "      <td>0.03570</td>\n",
       "    </tr>\n",
       "    <tr>\n",
       "      <th>(5, 0.2, 0)</th>\n",
       "      <td>0.61416</td>\n",
       "      <td>0.42073</td>\n",
       "      <td>0.24596</td>\n",
       "      <td>54.44940</td>\n",
       "      <td>3.41049</td>\n",
       "      <td>0.03596</td>\n",
       "    </tr>\n",
       "    <tr>\n",
       "      <th>(5, 0.30000000000000004, 0)</th>\n",
       "      <td>0.61819</td>\n",
       "      <td>0.42873</td>\n",
       "      <td>0.25221</td>\n",
       "      <td>50.67924</td>\n",
       "      <td>3.07406</td>\n",
       "      <td>0.03831</td>\n",
       "    </tr>\n",
       "    <tr>\n",
       "      <th>(5, 0.4, 0)</th>\n",
       "      <td>0.61997</td>\n",
       "      <td>0.44051</td>\n",
       "      <td>0.26054</td>\n",
       "      <td>53.14614</td>\n",
       "      <td>3.70203</td>\n",
       "      <td>0.04335</td>\n",
       "    </tr>\n",
       "    <tr>\n",
       "      <th>(5, 0.5, 0)</th>\n",
       "      <td>0.62174</td>\n",
       "      <td>0.43788</td>\n",
       "      <td>0.28254</td>\n",
       "      <td>47.28637</td>\n",
       "      <td>3.85069</td>\n",
       "      <td>0.05714</td>\n",
       "    </tr>\n",
       "    <tr>\n",
       "      <th>...</th>\n",
       "      <td>...</td>\n",
       "      <td>...</td>\n",
       "      <td>...</td>\n",
       "      <td>...</td>\n",
       "      <td>...</td>\n",
       "      <td>...</td>\n",
       "    </tr>\n",
       "    <tr>\n",
       "      <th>(23, 0.6000000000000001, 0)</th>\n",
       "      <td>0.61499</td>\n",
       "      <td>0.48414</td>\n",
       "      <td>0.34795</td>\n",
       "      <td>79.91234</td>\n",
       "      <td>5.07180</td>\n",
       "      <td>-0.00562</td>\n",
       "    </tr>\n",
       "    <tr>\n",
       "      <th>(23, 0.7000000000000001, 0)</th>\n",
       "      <td>0.61890</td>\n",
       "      <td>0.49237</td>\n",
       "      <td>0.35535</td>\n",
       "      <td>76.88869</td>\n",
       "      <td>4.73447</td>\n",
       "      <td>-0.00364</td>\n",
       "    </tr>\n",
       "    <tr>\n",
       "      <th>(23, 0.8, 0)</th>\n",
       "      <td>0.61795</td>\n",
       "      <td>0.51106</td>\n",
       "      <td>0.34541</td>\n",
       "      <td>79.06327</td>\n",
       "      <td>4.65826</td>\n",
       "      <td>-0.01176</td>\n",
       "    </tr>\n",
       "    <tr>\n",
       "      <th>(23, 0.9, 0)</th>\n",
       "      <td>0.61807</td>\n",
       "      <td>0.51341</td>\n",
       "      <td>0.34800</td>\n",
       "      <td>78.79798</td>\n",
       "      <td>4.81140</td>\n",
       "      <td>-0.01139</td>\n",
       "    </tr>\n",
       "    <tr>\n",
       "      <th>(23, 1.0, 0)</th>\n",
       "      <td>0.61795</td>\n",
       "      <td>0.51649</td>\n",
       "      <td>0.35160</td>\n",
       "      <td>79.26875</td>\n",
       "      <td>5.06322</td>\n",
       "      <td>-0.00976</td>\n",
       "    </tr>\n",
       "  </tbody>\n",
       "</table>\n",
       "<p>100 rows × 6 columns</p>\n",
       "</div>"
      ],
      "text/plain": [
       "                                 acc      nmi      ari       chs      dbs  \\\n",
       "(5, 0.1, 0)                  0.61357  0.42094  0.24458  64.85919  3.81025   \n",
       "(5, 0.2, 0)                  0.61416  0.42073  0.24596  54.44940  3.41049   \n",
       "(5, 0.30000000000000004, 0)  0.61819  0.42873  0.25221  50.67924  3.07406   \n",
       "(5, 0.4, 0)                  0.61997  0.44051  0.26054  53.14614  3.70203   \n",
       "(5, 0.5, 0)                  0.62174  0.43788  0.28254  47.28637  3.85069   \n",
       "...                              ...      ...      ...       ...      ...   \n",
       "(23, 0.6000000000000001, 0)  0.61499  0.48414  0.34795  79.91234  5.07180   \n",
       "(23, 0.7000000000000001, 0)  0.61890  0.49237  0.35535  76.88869  4.73447   \n",
       "(23, 0.8, 0)                 0.61795  0.51106  0.34541  79.06327  4.65826   \n",
       "(23, 0.9, 0)                 0.61807  0.51341  0.34800  78.79798  4.81140   \n",
       "(23, 1.0, 0)                 0.61795  0.51649  0.35160  79.26875  5.06322   \n",
       "\n",
       "                                  ss  \n",
       "(5, 0.1, 0)                  0.03570  \n",
       "(5, 0.2, 0)                  0.03596  \n",
       "(5, 0.30000000000000004, 0)  0.03831  \n",
       "(5, 0.4, 0)                  0.04335  \n",
       "(5, 0.5, 0)                  0.05714  \n",
       "...                              ...  \n",
       "(23, 0.6000000000000001, 0) -0.00562  \n",
       "(23, 0.7000000000000001, 0) -0.00364  \n",
       "(23, 0.8, 0)                -0.01176  \n",
       "(23, 0.9, 0)                -0.01139  \n",
       "(23, 1.0, 0)                -0.00976  \n",
       "\n",
       "[100 rows x 6 columns]"
      ]
     },
     "execution_count": 143,
     "metadata": {},
     "output_type": "execute_result"
    }
   ],
   "source": [
    "params = {\n",
    "    'N': [5+i*2 for i in range(10)],\n",
    "    'resolution': [0.1*i for i in range(1,11)], \n",
    "    'correlation_function': [pearsonr]\n",
    "}\n",
    "preds = {}\n",
    "\n",
    "results = pd.DataFrame(columns = ['acc', 'nmi', 'ari', 'chs', 'dbs', 'ss'])\n",
    "\n",
    "for N in tqdm(params['N']):\n",
    "    for r in params['resolution']:\n",
    "        for i, cf in enumerate(params['correlation_function']):\n",
    "            print(N, r, i)\n",
    "            y_pred = clustering(adata, N = N, resolution = r, correlation_function = cf)\n",
    "            results.loc[str((N,r,i))] = cluster_metrics(adata.X, y, y_pred)\n",
    "            preds[str((N,r,i))] = y_pred\n",
    "results"
   ]
  },
  {
   "cell_type": "code",
   "execution_count": 146,
   "metadata": {},
   "outputs": [
    {
     "data": {
      "text/plain": [
       "<Axes: >"
      ]
     },
     "execution_count": 146,
     "metadata": {},
     "output_type": "execute_result"
    },
    {
     "data": {
      "image/png": "[encoded data removed]",
      "text/plain": [
       "<Figure size 640x480 with 1 Axes>"
      ]
     },
     "metadata": {},
     "output_type": "display_data"
    }
   ],
   "source": [
    "results.acc.hist()"
   ]
  },
  {
   "cell_type": "code",
   "execution_count": 144,
   "metadata": {},
   "outputs": [],
   "source": [
    "import pickle\n",
    "with open('results.pickle', 'wb') as file:\n",
    "    pickle.dump( \n",
    "        file=file, obj = results)"
   ]
  },
  {
   "cell_type": "markdown",
   "metadata": {},
   "source": [
    "# Prueba con los datos chiquitos"
   ]
  },
  {
   "cell_type": "code",
   "execution_count": null,
   "metadata": {},
   "outputs": [],
   "source": [
    "X = pd.read_csv('../../results/HumanLiver_counts_top5000/Z.csv')\n",
    "X"
   ]
  },
  {
   "cell_type": "code",
   "execution_count": null,
   "metadata": {},
   "outputs": [],
   "source": []
  }
 ],
 "metadata": {
  "kernelspec": {
   "display_name": "env_scRNA",
   "language": "python",
   "name": "python3"
  },
  "language_info": {
   "codemirror_mode": {
    "name": "ipython",
    "version": 3
   },
   "file_extension": ".py",
   "mimetype": "text/x-python",
   "name": "python",
   "nbconvert_exporter": "python",
   "pygments_lexer": "ipython3",
   "version": "3.11.5"
  }
 },
 "nbformat": 4,
 "nbformat_minor": 2
}
