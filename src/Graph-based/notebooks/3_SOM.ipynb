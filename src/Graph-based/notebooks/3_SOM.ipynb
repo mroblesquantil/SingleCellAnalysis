{
 "cells": [
  {
   "cell_type": "markdown",
   "metadata": {},
   "source": [
    "# SOM: \n",
    "El algoritmo de Mapas Autoorganizativos (Self-Organizing Maps o SOM) es una técnica de aprendizaje no supervisado utilizada comúnmente para visualizar y organizar datos de alta dimensión en un espacio bidimensional o tridimensional. Aunque el SOM no está diseñado específicamente para clustering, puede utilizarse para agrupar datos de manera efectiva."
   ]
  },
  {
   "cell_type": "code",
   "execution_count": 25,
   "metadata": {},
   "outputs": [],
   "source": [
    "from minisom import MiniSom\n",
    "import numpy as np\n",
    "from graph_based_corr import *\n",
    "from utils import * \n",
    "import matplotlib.pyplot as plt"
   ]
  },
  {
   "cell_type": "markdown",
   "metadata": {},
   "source": [
    "# Ejemplo de cómo usar la librería"
   ]
  },
  {
   "cell_type": "code",
   "execution_count": 8,
   "metadata": {},
   "outputs": [],
   "source": [
    "\n",
    "# Generar datos de ejemplo\n",
    "np.random.seed(0)\n",
    "data = np.random.rand(100, 2)\n",
    "\n",
    "# Definir los parámetros del SOM\n",
    "som_size = (10, 10)  # Tamaño del mapa SOM\n",
    "learning_rate = 0.1  # Tasa de aprendizaje\n",
    "sigma = 1.0  # Ancho del vecindario\n",
    "\n",
    "# Crear e inicializar el SOM\n",
    "som = MiniSom(som_size[0], som_size[1], data.shape[1], sigma=sigma, learning_rate=learning_rate)\n",
    "som.random_weights_init(data)\n",
    "\n",
    "# Entrenar el SOM\n",
    "num_epochs = 100\n",
    "som.train_random(data, num_epochs)\n",
    "\n",
    "# Asignar cada muestra a un clúster basado en la ubicación en el mapa SOM\n",
    "cluster_labels = np.array([som.winner(x) for x in data])"
   ]
  },
  {
   "cell_type": "markdown",
   "metadata": {},
   "source": [
    "# Con 10X_PBMC"
   ]
  },
  {
   "cell_type": "code",
   "execution_count": 40,
   "metadata": {},
   "outputs": [
    {
     "name": "stdout",
     "output_type": "stream",
     "text": [
      "### Autoencoder: Successfully preprocessed 16653 genes and 2100 cells.\n"
     ]
    }
   ],
   "source": [
    "x, y = read_data('../../data/10X_PBMC_select_2100.h5')\n",
    "adata = format_normalize(x, y)\n",
    "x = adata.X"
   ]
  },
  {
   "cell_type": "code",
   "execution_count": 41,
   "metadata": {},
   "outputs": [],
   "source": [
    "pca = PCA(n_components = 32)\n",
    "X = pca.fit_transform(x)"
   ]
  },
  {
   "cell_type": "code",
   "execution_count": 79,
   "metadata": {},
   "outputs": [],
   "source": [
    "# Definir los parámetros del SOM\n",
    "som_size = (3, 3)  # Tamaño del mapa SOM\n",
    "learning_rate = 0.1  # Tasa de aprendizaje\n",
    "sigma = 1.0  # Ancho del vecindario\n",
    "\n",
    "# Crear e inicializar el SOM\n",
    "som = MiniSom(som_size[0], som_size[1], X.shape[1], sigma=sigma, learning_rate=learning_rate)\n",
    "som.random_weights_init(X)\n",
    "\n",
    "# Entrenar el SOM\n",
    "num_epochs = 100\n",
    "som.train_random(X, num_epochs)\n",
    "\n",
    "# Asignar cada muestra a un clúster basado en la ubicación en el mapa SOM\n",
    "cluster_labels = np.array([som.winner(x) for x in X])"
   ]
  },
  {
   "cell_type": "code",
   "execution_count": 80,
   "metadata": {},
   "outputs": [],
   "source": [
    "# Obtener las coordenadas de las neuronas ganadoras para cada muestra\n",
    "winners = np.array([som.winner(x) for x in X])\n",
    "\n",
    "# Aplanar las coordenadas para usarlas como características para K-Means\n",
    "features = winners[:, 0] * som_size[1] + winners[:, 1]\n",
    "\n",
    "# Realizar clustering con K-Means usando las coordenadas de las neuronas ganadoras\n",
    "num_clusters = 8\n",
    "kmeans = KMeans(n_clusters=num_clusters, random_state=0)\n",
    "cluster_labels = kmeans.fit_predict(features.reshape(-1, 1))"
   ]
  },
  {
   "cell_type": "code",
   "execution_count": 81,
   "metadata": {},
   "outputs": [
    {
     "data": {
      "text/plain": [
       "array([5, 4, 2, ..., 3, 4, 0], dtype=int32)"
      ]
     },
     "execution_count": 81,
     "metadata": {},
     "output_type": "execute_result"
    }
   ],
   "source": [
    "cluster_labels"
   ]
  },
  {
   "cell_type": "code",
   "execution_count": 82,
   "metadata": {},
   "outputs": [
    {
     "data": {
      "text/plain": [
       "{0, 1, 2, 3, 4, 5, 6, 7}"
      ]
     },
     "execution_count": 82,
     "metadata": {},
     "output_type": "execute_result"
    }
   ],
   "source": [
    "set(cluster_labels)"
   ]
  },
  {
   "cell_type": "code",
   "execution_count": 83,
   "metadata": {},
   "outputs": [
    {
     "data": {
      "text/plain": [
       "0.8119047619047619"
      ]
     },
     "execution_count": 83,
     "metadata": {},
     "output_type": "execute_result"
    }
   ],
   "source": [
    "cluster_acc(cluster_labels, y)"
   ]
  },
  {
   "cell_type": "code",
   "execution_count": null,
   "metadata": {},
   "outputs": [],
   "source": []
  }
 ],
 "metadata": {
  "kernelspec": {
   "display_name": "env_scRNA",
   "language": "python",
   "name": "python3"
  },
  "language_info": {
   "codemirror_mode": {
    "name": "ipython",
    "version": 3
   },
   "file_extension": ".py",
   "mimetype": "text/x-python",
   "name": "python",
   "nbconvert_exporter": "python",
   "pygments_lexer": "ipython3",
   "version": "3.11.0"
  }
 },
 "nbformat": 4,
 "nbformat_minor": 2
}
