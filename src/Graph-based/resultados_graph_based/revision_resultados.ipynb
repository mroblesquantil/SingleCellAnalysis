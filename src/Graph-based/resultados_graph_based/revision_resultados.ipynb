{
 "cells": [
  {
   "cell_type": "markdown",
   "metadata": {},
   "source": [
    "# Librerías"
   ]
  },
  {
   "cell_type": "code",
   "execution_count": 1,
   "metadata": {},
   "outputs": [],
   "source": [
    "from sklearn.neighbors import kneighbors_graph\n",
    "from scipy.stats import pearsonr, spearmanr\n",
    "from scipy.optimize import linear_sum_assignment\n",
    "from sklearn.metrics import (calinski_harabasz_score, davies_bouldin_score,\n",
    "                             silhouette_score, normalized_mutual_info_score, adjusted_rand_score)\n",
    "from sklearn import metrics\n",
    "from tqdm import tqdm\n",
    "import networkx as nx\n",
    "import pandas as pd\n",
    "import scanpy as sc\n",
    "import numpy as np\n",
    "import pickle\n",
    "import h5py \n",
    "\n",
    "from sklearn.decomposition import PCA"
   ]
  },
  {
   "cell_type": "markdown",
   "metadata": {},
   "source": [
    "# Lectura de los tres datasets "
   ]
  },
  {
   "cell_type": "code",
   "execution_count": null,
   "metadata": {},
   "outputs": [],
   "source": [
    "# Lectura HumanLiver\n",
    "\n",
    "# Datos raw\n",
    "with h5py.File('../../data/HumanLiver_counts_top5000.h5') as file:\n",
    "    X = np.array(file['X'])\n",
    "    y = np.array(file['Y'])\n",
    "\n",
    "adata_hl = sc.AnnData(X)\n",
    "adata_hl.obs['Group'] = y\n",
    "\n",
    "# Datos AE+GMM\n",
    "path_z_hl = '../../results/HumanLiver_counts_top5000/Z.csv'"
   ]
  },
  {
   "cell_type": "code",
   "execution_count": null,
   "metadata": {},
   "outputs": [],
   "source": [
    "# Lectura 10XPBMC\n",
    "with h5py.File('../../data/10X_PBMC_select_2100.h5') as file:\n",
    "    X = np.array(file['X'])\n",
    "    y = np.array(file['Y'])\n",
    "\n",
    "adata_10x = sc.AnnData(X)\n",
    "adata_10x.obs['Group'] = y\n",
    "\n",
    "# Datos AE+GMM\n",
    "path_z_10x = '../../results/10X_PBMC_select_2100/Z.csv'"
   ]
  },
  {
   "cell_type": "code",
   "execution_count": null,
   "metadata": {},
   "outputs": [],
   "source": [
    "# Lectura Macosko\n",
    "with h5py.File('../../data/Macosko_mouse_retina.h5') as file:\n",
    "    X = np.array(file['X'])\n",
    "    y = np.array(file['Y'])\n",
    "\n",
    "adata_macosko = sc.AnnData(X)\n",
    "adata_macosko.obs['Group'] = y\n",
    "\n",
    "# Datos AE+GMM\n",
    "path_z_macosko = '../../results/Macosko_mouse_retina/Z.csv'"
   ]
  },
  {
   "cell_type": "markdown",
   "metadata": {},
   "source": [
    "# Resultados"
   ]
  },
  {
   "cell_type": "code",
   "execution_count": 9,
   "metadata": {},
   "outputs": [
    {
     "data": {
      "text/plain": [
       "N                17.00000\n",
       "r                 0.10000\n",
       "acc               0.61000\n",
       "nmi               0.64274\n",
       "ari               0.42337\n",
       "chs             417.13240\n",
       "dbs               1.51121\n",
       "ss                0.31530\n",
       "num_clusters      3.00000\n",
       "Name: 18, dtype: float64"
      ]
     },
     "execution_count": 9,
     "metadata": {},
     "output_type": "execute_result"
    }
   ],
   "source": [
    "with open('results_10x.pickle', 'rb') as file:\n",
    "    results_10x = pickle.load(file)\n",
    "\n",
    "results_10x['pca'].sort_values('ss', ascending=False).iloc[0]"
   ]
  },
  {
   "cell_type": "code",
   "execution_count": 11,
   "metadata": {},
   "outputs": [
    {
     "data": {
      "text/plain": [
       "N                  5.00000\n",
       "r                  0.10000\n",
       "acc                0.73476\n",
       "nmi                0.75752\n",
       "ari                0.66671\n",
       "chs             3577.39407\n",
       "dbs                0.50324\n",
       "ss                 0.59197\n",
       "num_clusters       6.00000\n",
       "Name: 0, dtype: float64"
      ]
     },
     "execution_count": 11,
     "metadata": {},
     "output_type": "execute_result"
    }
   ],
   "source": [
    "results_10x['nopca'].sort_values('ss', ascending=False).iloc[0]"
   ]
  },
  {
   "cell_type": "code",
   "execution_count": 12,
   "metadata": {},
   "outputs": [
    {
     "data": {
      "text/plain": [
       "N                 15.00000\n",
       "r                  0.10000\n",
       "acc                0.76836\n",
       "nmi                0.81285\n",
       "ari                0.69645\n",
       "chs             1402.13999\n",
       "dbs                1.30037\n",
       "ss                 0.37030\n",
       "num_clusters       8.00000\n",
       "Name: 15, dtype: float64"
      ]
     },
     "execution_count": 12,
     "metadata": {},
     "output_type": "execute_result"
    }
   ],
   "source": [
    "with open('results_human_liver.pickle', 'rb') as file:\n",
    "    results_hl = pickle.load(file)\n",
    "\n",
    "results_hl['pca'].sort_values('ss', ascending=False).iloc[0]"
   ]
  },
  {
   "cell_type": "code",
   "execution_count": 13,
   "metadata": {},
   "outputs": [
    {
     "data": {
      "text/plain": [
       "N                 21.00000\n",
       "r                  0.10000\n",
       "acc                0.75000\n",
       "nmi                0.82197\n",
       "ari                0.68976\n",
       "chs             4480.65802\n",
       "dbs                1.22291\n",
       "ss                 0.46137\n",
       "num_clusters       8.00000\n",
       "Name: 24, dtype: float64"
      ]
     },
     "execution_count": 13,
     "metadata": {},
     "output_type": "execute_result"
    }
   ],
   "source": [
    "results_hl['nopca'].sort_values('ss', ascending=False).iloc[0]"
   ]
  },
  {
   "cell_type": "code",
   "execution_count": 14,
   "metadata": {},
   "outputs": [
    {
     "data": {
      "text/plain": [
       "N                 23.00000\n",
       "r                  0.10000\n",
       "acc                0.54630\n",
       "nmi                0.68962\n",
       "ari                0.52803\n",
       "chs             2377.89981\n",
       "dbs                1.37908\n",
       "ss                 0.32240\n",
       "num_clusters      11.00000\n",
       "Name: 27, dtype: float64"
      ]
     },
     "execution_count": 14,
     "metadata": {},
     "output_type": "execute_result"
    }
   ],
   "source": [
    "with open('results_macosko.pickle', 'rb') as file:\n",
    "    results_macosko = pickle.load(file)\n",
    "\n",
    "results_macosko['pca'].sort_values('ss', ascending=False).iloc[0]"
   ]
  },
  {
   "cell_type": "code",
   "execution_count": 15,
   "metadata": {},
   "outputs": [
    {
     "data": {
      "text/plain": [
       "N                   13.00000\n",
       "r                    0.10000\n",
       "acc                  0.07186\n",
       "nmi                  0.01264\n",
       "ari                  0.00194\n",
       "chs             224069.27116\n",
       "dbs                  0.50349\n",
       "ss                   0.51675\n",
       "num_clusters        16.00000\n",
       "Name: 12, dtype: float64"
      ]
     },
     "execution_count": 15,
     "metadata": {},
     "output_type": "execute_result"
    }
   ],
   "source": [
    "results_macosko['nopca'].sort_values('ss', ascending=False).iloc[0]"
   ]
  },
  {
   "cell_type": "code",
   "execution_count": null,
   "metadata": {},
   "outputs": [],
   "source": []
  }
 ],
 "metadata": {
  "kernelspec": {
   "display_name": "env_scRNA",
   "language": "python",
   "name": "python3"
  },
  "language_info": {
   "codemirror_mode": {
    "name": "ipython",
    "version": 3
   },
   "file_extension": ".py",
   "mimetype": "text/x-python",
   "name": "python",
   "nbconvert_exporter": "python",
   "pygments_lexer": "ipython3",
   "version": "3.11.0"
  }
 },
 "nbformat": 4,
 "nbformat_minor": 2
}
