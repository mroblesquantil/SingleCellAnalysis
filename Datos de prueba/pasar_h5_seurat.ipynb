{
 "cells": [
  {
   "cell_type": "markdown",
   "metadata": {},
   "source": [
    "# Pasar a formato estándar"
   ]
  },
  {
   "cell_type": "code",
   "execution_count": 14,
   "metadata": {},
   "outputs": [],
   "source": [
    "import os\n",
    "import h5py\n",
    "import numpy as np\n",
    "import pandas as pd\n",
    "from tqdm import tqdm \n",
    "from glob import glob\n",
    "from scipy.sparse import csc_matrix\n",
    "from scipy.io import mmwrite"
   ]
  },
  {
   "cell_type": "code",
   "execution_count": 16,
   "metadata": {},
   "outputs": [],
   "source": [
    "ruta_carpeta = 'generados/symsim/'\n",
    "ruta_salida = 'generados/symsim_formato_seurat/'\n",
    "\n",
    "for f in glob(ruta_carpeta + '*'):\n",
    "    nombre = f.split('/')[-1].split('.h5')[0]\n",
    "\n",
    "    with h5py.File(f) as file:\n",
    "        X = np.array(file['X'])\n",
    "        X = csc_matrix(X)\n",
    "\n",
    "        y = np.array(file['Y'])\n",
    "\n",
    "    salida = ruta_salida + nombre + '/'\n",
    "\n",
    "    if not os.path.exists(salida):\n",
    "        os.makedirs(salida)\n",
    "        os.makedirs(salida + 'hg19/')\n",
    "\n",
    "    mmwrite(salida + 'hg19/matrix.mtx', X.T)\n",
    "\n",
    "    celulas = np.array(range(X.shape[0]))\n",
    "    c = pd.DataFrame(columns = ['c0'])\n",
    "    c['c0'] = celulas[1:]\n",
    "    c['c0'] = c['c0'].astype(str).apply(lambda x: 'c' + x)\n",
    "\n",
    "    genes = np.array(range(X.shape[1]))\n",
    "    g = pd.DataFrame(columns = ['g0', 'g00'])\n",
    "    g['g0'] = genes[1:]\n",
    "    g['g0'] = g['g0'].astype(str).apply(lambda x: 'g' + x)\n",
    "    g['g00'] = g.g0\n",
    "\n",
    "    c.to_csv(salida + 'hg19/barcodes.tsv', sep = '\\t', index = None)\n",
    "    g.to_csv(salida + 'hg19/genes.tsv', sep = '\\t', index = None)"
   ]
  },
  {
   "cell_type": "code",
   "execution_count": null,
   "metadata": {},
   "outputs": [],
   "source": []
  }
 ],
 "metadata": {
  "kernelspec": {
   "display_name": "env_scRNA",
   "language": "python",
   "name": "python3"
  },
  "language_info": {
   "codemirror_mode": {
    "name": "ipython",
    "version": 3
   },
   "file_extension": ".py",
   "mimetype": "text/x-python",
   "name": "python",
   "nbconvert_exporter": "python",
   "pygments_lexer": "ipython3",
   "version": "3.11.0"
  }
 },
 "nbformat": 4,
 "nbformat_minor": 2
}
