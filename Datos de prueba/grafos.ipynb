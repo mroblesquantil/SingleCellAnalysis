{
 "cells": [
  {
   "cell_type": "markdown",
   "metadata": {},
   "source": [
    "# Librerías"
   ]
  },
  {
   "cell_type": "code",
   "execution_count": 1,
   "metadata": {},
   "outputs": [],
   "source": [
    "import pickle \n",
    "import networkx as nx\n",
    "import seaborn as sns\n",
    "from networkx.algorithms import community\n",
    "import numpy as np\n",
    "from sklearn.decomposition import PCA"
   ]
  },
  {
   "cell_type": "markdown",
   "metadata": {},
   "source": [
    "# Creación de los grafos\n",
    "- Carga de datos\n",
    "- Filtro de correlaciones menores a 10e-5\n",
    "- Análisis de dispersión de la matriz resultante\n",
    "- Creación del grafo"
   ]
  },
  {
   "cell_type": "code",
   "execution_count": 2,
   "metadata": {},
   "outputs": [],
   "source": [
    "with open('../data/correlaciones_macosko/correlaciones.pickle', 'rb') as f:\n",
    "    correlaciones = pickle.load(f)"
   ]
  },
  {
   "cell_type": "code",
   "execution_count": 3,
   "metadata": {},
   "outputs": [
    {
     "data": {
      "text/plain": [
       "1.0000448157766349e-05"
      ]
     },
     "execution_count": 3,
     "metadata": {},
     "output_type": "execute_result"
    }
   ],
   "source": [
    "# Filtro de correlaciones menores o iguales que 10 e-5\n",
    "correlaciones = np.where(correlaciones <= 10**(-5), 0, correlaciones)\n",
    "\n",
    "for i in range(correlaciones.shape[0]):\n",
    "    correlaciones[i,i] = 0\n",
    "\n",
    "np.min(correlaciones[correlaciones!=0])"
   ]
  },
  {
   "cell_type": "code",
   "execution_count": 4,
   "metadata": {},
   "outputs": [
    {
     "data": {
      "text/plain": [
       "21.042566688045387"
      ]
     },
     "execution_count": 4,
     "metadata": {},
     "output_type": "execute_result"
    }
   ],
   "source": [
    "# Porcentaje de valores distintos de 0\n",
    "len(correlaciones.nonzero()[0])/(correlaciones.shape[0]**2)*100 # NB 47"
   ]
  },
  {
   "cell_type": "code",
   "execution_count": 34,
   "metadata": {},
   "outputs": [],
   "source": [
    "sns.heatmap(correlaciones)"
   ]
  },
  {
   "cell_type": "code",
   "execution_count": 5,
   "metadata": {},
   "outputs": [],
   "source": [
    "grafo = nx.Graph()\n",
    "\n",
    "# Agregar nodos al grafo\n",
    "grafo.add_nodes_from(range(len(correlaciones)))\n",
    "\n",
    "# Agregar aristas al grafo con pesos\n",
    "for i in range(len(correlaciones)):\n",
    "    for j in range(i + 1, len(correlaciones)):\n",
    "        peso = correlaciones[i, j]\n",
    "        if peso != 0:\n",
    "            grafo.add_edge(i, j, weight=peso)"
   ]
  },
  {
   "cell_type": "markdown",
   "metadata": {},
   "source": [
    "# Detección de comunidades en el grafo"
   ]
  },
  {
   "cell_type": "code",
   "execution_count": 6,
   "metadata": {},
   "outputs": [],
   "source": [
    "# Ejecutar el algoritmo de Louvain\n",
    "particiones = nx.community.louvain_communities(grafo, seed=123)"
   ]
  },
  {
   "cell_type": "code",
   "execution_count": 7,
   "metadata": {},
   "outputs": [],
   "source": [
    "with open('resultados/particiones_grafos_macosko.pickle', 'wb') as f:\n",
    "    pickle.dump(particiones, f)"
   ]
  },
  {
   "cell_type": "markdown",
   "metadata": {},
   "source": [
    "# Mirar métricas"
   ]
  },
  {
   "cell_type": "markdown",
   "metadata": {},
   "source": [
    "### Funciones auxiliares"
   ]
  },
  {
   "cell_type": "code",
   "execution_count": 2,
   "metadata": {},
   "outputs": [],
   "source": [
    "from sklearn.metrics import (calinski_harabasz_score, davies_bouldin_score, silhouette_score)\n",
    "from scipy.optimize import linear_sum_assignment\n",
    "import pandas as pd\n",
    "from sklearn import metrics\n",
    "import matplotlib.pyplot as plt \n",
    "\n",
    "\n",
    "def cluster_acc_plot(y_true, y_pred):\n",
    "    y_true = y_true.astype(np.int64)\n",
    "    y_pred = y_pred.astype(np.int64)\n",
    "    assert y_pred.size == y_true.size\n",
    "    D = max(y_pred.max(), y_true.max()) + 1\n",
    "    w = np.zeros((D, D), dtype=np.int64)\n",
    "    for i in range(y_pred.size):\n",
    "        w[y_pred[i], y_true[i]] += 1\n",
    "    ind = linear_sum_assignment(w.max() - w)\n",
    "    \n",
    "    df_cm = pd.DataFrame(w, index = [i for i in range(D)], columns = [i for i in range(D)])\n",
    "    plt.figure(figsize = (10,7))\n",
    "    w_order = np.zeros((D, D), dtype=np.int64)\n",
    "    for i in range(D):\n",
    "        for j in range(D):\n",
    "            w_order[i,j] = w[i, ind[1][j]]\n",
    "\n",
    "    df_cm = pd.DataFrame(w_order, index = [i for i in range(D)], columns = [i for i in ind[1]])\n",
    "    plt.figure(figsize = (10,7))\n",
    "    sns.heatmap(df_cm, annot=True, fmt='g')\n",
    "    plt.ylabel(\"Prediction\")\n",
    "    plt.xlabel(\"Ground Truth\")\n",
    "    \n",
    "def cluster_acc(y_true, y_pred):\n",
    "    \"\"\"\n",
    "    Calculate clustering accuracy. Require scikit-learn installed\n",
    "    # Arguments\n",
    "        y: true labels, numpy.array with shape `(n_samples,)`\n",
    "        y_pred: predicted labels, numpy.array with shape `(n_samples,)`\n",
    "    # Return\n",
    "        accuracy, in [0,1]\n",
    "    \"\"\"\n",
    "    y_true = y_true.astype(np.int64)\n",
    "    y_pred = y_pred.astype(np.int64)\n",
    "\n",
    "    assert y_pred.size == y_true.size\n",
    "    D = max(y_pred.max(), y_true.max()) + 1\n",
    "    w = np.zeros((D, D), dtype=np.int64)\n",
    "    for i in range(y_pred.size):\n",
    "        w[y_pred[i], y_true[i]] += 1\n",
    "        \n",
    "    ind = linear_sum_assignment(w.max() - w)\n",
    "    ind = np.asarray(ind)\n",
    "    ind = np.transpose(ind)\n",
    "    return sum([w[i, j] for i, j in ind]) * 1.0 / y_pred.size\n",
    "\n",
    "def unsupervised_metrics(X, y_pred):\n",
    "    # Evaluación final de resultados: métricas comparando con los clusters reales\n",
    "    sil = np.round(silhouette_score(X, y_pred), 5)\n",
    "    chs = np.round(calinski_harabasz_score(X, y_pred), 5)\n",
    "    dbs = np.round(davies_bouldin_score(X, y_pred), 5)\n",
    "    print('Evaluating cells: SIL= %.4f, CHS= %.4f, DBS= %.4f' % (sil, chs, dbs))"
   ]
  },
  {
   "cell_type": "markdown",
   "metadata": {},
   "source": [
    "### Resultados poisson"
   ]
  },
  {
   "cell_type": "code",
   "execution_count": 23,
   "metadata": {},
   "outputs": [
    {
     "name": "stdout",
     "output_type": "stream",
     "text": [
      "[0 0 0 ... 7 7 7]\n"
     ]
    }
   ],
   "source": [
    "with open('generados/zi__poisson_dim10000/resultados_louvain.pickle', 'rb') as f:\n",
    "    particiones_p = pickle.load(f)\n",
    "\n",
    "# ZI Poisson\n",
    "with open('generados/zi_poisson_dim10000.pkl', 'rb') as f:\n",
    "    poisson = pickle.load(f)\n",
    "    X_p = np.array(poisson['X'])\n",
    "    y_p = np.array(poisson['y'])\n",
    "\n",
    "diccionario = {}\n",
    "\n",
    "# Crear el diccionario\n",
    "for i, conjunto in enumerate(particiones_p):\n",
    "    for elemento in conjunto:\n",
    "        diccionario[elemento] = i\n",
    "\n",
    "# Crear la lista deseada\n",
    "max_elemento = max(max(particiones_p, key=max), default=-1)\n",
    "clusters_p = np.array([diccionario.get(i, -1) for i in range(max_elemento + 1)])\n",
    "print(clusters_p)"
   ]
  },
  {
   "cell_type": "code",
   "execution_count": 24,
   "metadata": {},
   "outputs": [
    {
     "name": "stdout",
     "output_type": "stream",
     "text": [
      "ACC: 1.0. NMI: 1.0. ARI: 1.0.\n",
      "Evaluating cells: SIL= 0.0641, CHS= 197.9162, DBS= 3.6413\n"
     ]
    }
   ],
   "source": [
    "acc = round(cluster_acc(clusters_p, y_p),3)\n",
    "nmi = round(metrics.normalized_mutual_info_score(clusters_p, y_p),3)\n",
    "ari = round(metrics.adjusted_rand_score(clusters_p, y_p),3)\n",
    "\n",
    "print(f\"ACC: {acc}. NMI: {nmi}. ARI: {ari}.\")\n",
    "\n",
    "unsupervised_metrics(X_p, y_p)"
   ]
  },
  {
   "cell_type": "code",
   "execution_count": 28,
   "metadata": {},
   "outputs": [
    {
     "name": "stdout",
     "output_type": "stream",
     "text": [
      "Evaluating cells: SIL= 0.7464, CHS= 18953.4315, DBS= 0.3673\n"
     ]
    }
   ],
   "source": [
    "X_p_pca = PCA(n_components=32).fit_transform(X_p)\n",
    "unsupervised_metrics(X_p_pca, y_p)"
   ]
  },
  {
   "cell_type": "markdown",
   "metadata": {},
   "source": [
    "### Resultados NB"
   ]
  },
  {
   "cell_type": "code",
   "execution_count": 32,
   "metadata": {},
   "outputs": [],
   "source": [
    "with open('generados/zi_negative_binomial_dim10000/resultados_louvain.pickle', 'rb') as f:\n",
    "    particiones_nb = pickle.load(f)\n",
    "\n",
    "# ZI Negative Binomial\n",
    "with open('generados/zi_negative_binomial_dim10000.pkl', 'rb') as f:\n",
    "    nb = pickle.load(f)\n",
    "    X_nb = nb['X']\n",
    "    y_nb = np.array(nb['y'])"
   ]
  },
  {
   "cell_type": "code",
   "execution_count": 33,
   "metadata": {},
   "outputs": [
    {
     "name": "stdout",
     "output_type": "stream",
     "text": [
      "[2 6 3 ... 2 6 4]\n"
     ]
    }
   ],
   "source": [
    "diccionario = {}\n",
    "\n",
    "# Crear el diccionario\n",
    "for i, conjunto in enumerate(particiones_nb):\n",
    "    for elemento in conjunto:\n",
    "        diccionario[elemento] = i\n",
    "\n",
    "# Crear la lista deseada\n",
    "max_elemento = max(max(particiones_nb, key=max), default=-1)\n",
    "clusters_nb = np.array([diccionario.get(i, -1) for i in range(max_elemento + 1)])\n",
    "print(clusters_nb)"
   ]
  },
  {
   "cell_type": "code",
   "execution_count": 35,
   "metadata": {},
   "outputs": [
    {
     "data": {
      "text/plain": [
       "7875"
      ]
     },
     "execution_count": 35,
     "metadata": {},
     "output_type": "execute_result"
    }
   ],
   "source": [
    "len(clusters_nb)"
   ]
  },
  {
   "cell_type": "code",
   "execution_count": 36,
   "metadata": {},
   "outputs": [
    {
     "data": {
      "text/plain": [
       "7897"
      ]
     },
     "execution_count": 36,
     "metadata": {},
     "output_type": "execute_result"
    }
   ],
   "source": [
    "len(y_nb)"
   ]
  },
  {
   "cell_type": "code",
   "execution_count": 34,
   "metadata": {},
   "outputs": [
    {
     "ename": "AssertionError",
     "evalue": "",
     "output_type": "error",
     "traceback": [
      "\u001b[1;31m---------------------------------------------------------------------------\u001b[0m",
      "\u001b[1;31mAssertionError\u001b[0m                            Traceback (most recent call last)",
      "\u001b[1;32mc:\\Users\\melir\\Documents\\Maestría\\Investigacion\\Datos de prueba\\grafos.ipynb Cell 22\u001b[0m line \u001b[0;36m1\n\u001b[1;32m----> <a href='vscode-notebook-cell:/c%3A/Users/melir/Documents/Maestr%C3%ADa/Investigacion/Datos%20de%20prueba/grafos.ipynb#X34sZmlsZQ%3D%3D?line=0'>1</a>\u001b[0m acc \u001b[39m=\u001b[39m \u001b[39mround\u001b[39m(cluster_acc(clusters_nb, y_nb),\u001b[39m3\u001b[39m)\n\u001b[0;32m      <a href='vscode-notebook-cell:/c%3A/Users/melir/Documents/Maestr%C3%ADa/Investigacion/Datos%20de%20prueba/grafos.ipynb#X34sZmlsZQ%3D%3D?line=1'>2</a>\u001b[0m nmi \u001b[39m=\u001b[39m \u001b[39mround\u001b[39m(metrics\u001b[39m.\u001b[39mnormalized_mutual_info_score(clusters_nb, y_nb),\u001b[39m3\u001b[39m)\n\u001b[0;32m      <a href='vscode-notebook-cell:/c%3A/Users/melir/Documents/Maestr%C3%ADa/Investigacion/Datos%20de%20prueba/grafos.ipynb#X34sZmlsZQ%3D%3D?line=2'>3</a>\u001b[0m ari \u001b[39m=\u001b[39m \u001b[39mround\u001b[39m(metrics\u001b[39m.\u001b[39madjusted_rand_score(clusters_nb, y_nb),\u001b[39m3\u001b[39m)\n",
      "\u001b[1;32mc:\\Users\\melir\\Documents\\Maestría\\Investigacion\\Datos de prueba\\grafos.ipynb Cell 22\u001b[0m line \u001b[0;36m4\n\u001b[0;32m     <a href='vscode-notebook-cell:/c%3A/Users/melir/Documents/Maestr%C3%ADa/Investigacion/Datos%20de%20prueba/grafos.ipynb#X34sZmlsZQ%3D%3D?line=39'>40</a>\u001b[0m y_true \u001b[39m=\u001b[39m y_true\u001b[39m.\u001b[39mastype(np\u001b[39m.\u001b[39mint64)\n\u001b[0;32m     <a href='vscode-notebook-cell:/c%3A/Users/melir/Documents/Maestr%C3%ADa/Investigacion/Datos%20de%20prueba/grafos.ipynb#X34sZmlsZQ%3D%3D?line=40'>41</a>\u001b[0m y_pred \u001b[39m=\u001b[39m y_pred\u001b[39m.\u001b[39mastype(np\u001b[39m.\u001b[39mint64)\n\u001b[1;32m---> <a href='vscode-notebook-cell:/c%3A/Users/melir/Documents/Maestr%C3%ADa/Investigacion/Datos%20de%20prueba/grafos.ipynb#X34sZmlsZQ%3D%3D?line=42'>43</a>\u001b[0m \u001b[39massert\u001b[39;00m y_pred\u001b[39m.\u001b[39msize \u001b[39m==\u001b[39m y_true\u001b[39m.\u001b[39msize\n\u001b[0;32m     <a href='vscode-notebook-cell:/c%3A/Users/melir/Documents/Maestr%C3%ADa/Investigacion/Datos%20de%20prueba/grafos.ipynb#X34sZmlsZQ%3D%3D?line=43'>44</a>\u001b[0m D \u001b[39m=\u001b[39m \u001b[39mmax\u001b[39m(y_pred\u001b[39m.\u001b[39mmax(), y_true\u001b[39m.\u001b[39mmax()) \u001b[39m+\u001b[39m \u001b[39m1\u001b[39m\n\u001b[0;32m     <a href='vscode-notebook-cell:/c%3A/Users/melir/Documents/Maestr%C3%ADa/Investigacion/Datos%20de%20prueba/grafos.ipynb#X34sZmlsZQ%3D%3D?line=44'>45</a>\u001b[0m w \u001b[39m=\u001b[39m np\u001b[39m.\u001b[39mzeros((D, D), dtype\u001b[39m=\u001b[39mnp\u001b[39m.\u001b[39mint64)\n",
      "\u001b[1;31mAssertionError\u001b[0m: "
     ]
    }
   ],
   "source": [
    "acc = round(cluster_acc(clusters_nb, y_nb),3)\n",
    "nmi = round(metrics.normalized_mutual_info_score(clusters_nb, y_nb),3)\n",
    "ari = round(metrics.adjusted_rand_score(clusters_nb, y_nb),3)\n",
    "\n",
    "print(f\"ACC: {acc}. NMI: {nmi}. ARI: {ari}.\")\n",
    "\n",
    "unsupervised_metrics(X_nb, y_nb)"
   ]
  },
  {
   "cell_type": "markdown",
   "metadata": {},
   "source": [
    "### Resultados Human Liver"
   ]
  },
  {
   "cell_type": "code",
   "execution_count": 27,
   "metadata": {},
   "outputs": [],
   "source": [
    "import h5py \n",
    "\n",
    "with open('resultados/particiones_grafos_human_liver.pickle', 'rb') as f:\n",
    "    particiones_hl = pickle.load(f)\n",
    "\n",
    "# ZI Negative Binomial\n",
    "with h5py.File('../data/HumanLiver_counts_top5000.h5') as f:\n",
    "    X_hl = np.array(f['X'])\n",
    "    y_hl = np.array(f['Y'])"
   ]
  },
  {
   "cell_type": "code",
   "execution_count": 29,
   "metadata": {},
   "outputs": [
    {
     "name": "stdout",
     "output_type": "stream",
     "text": [
      "[3 3 3 ... 3 0 2]\n"
     ]
    }
   ],
   "source": [
    "diccionario = {}\n",
    "\n",
    "# Crear el diccionario\n",
    "for i, conjunto in enumerate(particiones_hl):\n",
    "    for elemento in conjunto:\n",
    "        diccionario[elemento] = i\n",
    "\n",
    "# Crear la lista deseada\n",
    "max_elemento = max(max(particiones_hl, key=max), default=-1)\n",
    "clusters_hl = np.array([diccionario.get(i, -1) for i in range(max_elemento + 1)])\n",
    "print(clusters_hl)"
   ]
  },
  {
   "cell_type": "code",
   "execution_count": 30,
   "metadata": {},
   "outputs": [
    {
     "name": "stdout",
     "output_type": "stream",
     "text": [
      "ACC: 0.766. NMI: 0.793. ARI: 0.779.\n",
      "Evaluating cells: SIL= -0.2044, CHS= 189.0439, DBS= 2.7284\n"
     ]
    }
   ],
   "source": [
    "acc = round(cluster_acc(clusters_hl, y_hl),3)\n",
    "nmi = round(metrics.normalized_mutual_info_score(clusters_hl, y_hl),3)\n",
    "ari = round(metrics.adjusted_rand_score(clusters_hl, y_hl),3)\n",
    "\n",
    "print(f\"ACC: {acc}. NMI: {nmi}. ARI: {ari}.\")\n",
    "\n",
    "unsupervised_metrics(X_hl, y_hl)"
   ]
  },
  {
   "cell_type": "markdown",
   "metadata": {},
   "source": [
    "### Resultados 10X_PBMC"
   ]
  },
  {
   "cell_type": "code",
   "execution_count": 15,
   "metadata": {},
   "outputs": [],
   "source": [
    "import h5py \n",
    "\n",
    "with open('resultados/particiones_grafos_10x.pickle', 'rb') as f:\n",
    "    particiones_10x = pickle.load(f)\n",
    "\n",
    "# ZI Negative Binomial\n",
    "with h5py.File('../data/10X_PBMC_select_2100.h5') as f:\n",
    "    X_10x = np.array(f['X'])\n",
    "    y_10x = np.array(f['Y'])"
   ]
  },
  {
   "cell_type": "code",
   "execution_count": 16,
   "metadata": {},
   "outputs": [
    {
     "name": "stdout",
     "output_type": "stream",
     "text": [
      "[1 2 3 ... 0 2 2]\n"
     ]
    }
   ],
   "source": [
    "diccionario = {}\n",
    "\n",
    "# Crear el diccionario\n",
    "for i, conjunto in enumerate(particiones_10x):\n",
    "    for elemento in conjunto:\n",
    "        diccionario[elemento] = i\n",
    "\n",
    "# Crear la lista deseada\n",
    "max_elemento = max(max(particiones_10x, key=max), default=-1)\n",
    "clusters_10x = np.array([diccionario.get(i, -1) for i in range(max_elemento + 1)])\n",
    "print(clusters_10x)"
   ]
  },
  {
   "cell_type": "code",
   "execution_count": 17,
   "metadata": {},
   "outputs": [
    {
     "name": "stdout",
     "output_type": "stream",
     "text": [
      "ACC: 0.708. NMI: 0.742. ARI: 0.639.\n",
      "Evaluating cells: SIL= 0.0223, CHS= 152.8066, DBS= 3.3886\n"
     ]
    }
   ],
   "source": [
    "acc = round(cluster_acc(clusters_10x, y_10x),3)\n",
    "nmi = round(metrics.normalized_mutual_info_score(clusters_10x, y_10x),3)\n",
    "ari = round(metrics.adjusted_rand_score(clusters_10x, y_10x),3)\n",
    "\n",
    "print(f\"ACC: {acc}. NMI: {nmi}. ARI: {ari}.\")\n",
    "\n",
    "unsupervised_metrics(X_10x, y_10x)"
   ]
  },
  {
   "cell_type": "markdown",
   "metadata": {},
   "source": [
    "### Resultados Macosko"
   ]
  },
  {
   "cell_type": "code",
   "execution_count": 3,
   "metadata": {},
   "outputs": [],
   "source": [
    "import h5py \n",
    "\n",
    "with open('resultados/particiones_grafos_macosko.pickle', 'rb') as f:\n",
    "    particiones_mac = pickle.load(f)\n",
    "\n",
    "# ZI Negative Binomial\n",
    "with h5py.File('../data/Macosko_mouse_retina.h5') as f:\n",
    "    X_mac = np.array(f['X'])\n",
    "    y_mac = np.array(f['Y'])"
   ]
  },
  {
   "cell_type": "code",
   "execution_count": 4,
   "metadata": {},
   "outputs": [
    {
     "name": "stdout",
     "output_type": "stream",
     "text": [
      "[3 1 0 ... 0 1 0]\n"
     ]
    }
   ],
   "source": [
    "diccionario = {}\n",
    "\n",
    "# Crear el diccionario\n",
    "for i, conjunto in enumerate(particiones_mac):\n",
    "    for elemento in conjunto:\n",
    "        diccionario[elemento] = i\n",
    "\n",
    "# Crear la lista deseada\n",
    "max_elemento = max(max(particiones_mac, key=max), default=-1)\n",
    "clusters_mac = np.array([diccionario.get(i, -1) for i in range(max_elemento + 1)])\n",
    "print(clusters_mac)"
   ]
  },
  {
   "cell_type": "code",
   "execution_count": 5,
   "metadata": {},
   "outputs": [
    {
     "name": "stdout",
     "output_type": "stream",
     "text": [
      "ACC: 0.441. NMI: 0.529. ARI: 0.394.\n",
      "Evaluating cells: SIL= -0.0348, CHS= 124.1474, DBS= 5.1253\n"
     ]
    }
   ],
   "source": [
    "acc = round(cluster_acc(clusters_mac, y_mac),3)\n",
    "nmi = round(metrics.normalized_mutual_info_score(clusters_mac, y_mac),3)\n",
    "ari = round(metrics.adjusted_rand_score(clusters_mac, y_mac),3)\n",
    "\n",
    "print(f\"ACC: {acc}. NMI: {nmi}. ARI: {ari}.\")\n",
    "\n",
    "unsupervised_metrics(X_mac, y_mac)"
   ]
  },
  {
   "cell_type": "code",
   "execution_count": null,
   "metadata": {},
   "outputs": [],
   "source": []
  }
 ],
 "metadata": {
  "kernelspec": {
   "display_name": "env_scRNA",
   "language": "python",
   "name": "python3"
  },
  "language_info": {
   "codemirror_mode": {
    "name": "ipython",
    "version": 3
   },
   "file_extension": ".py",
   "mimetype": "text/x-python",
   "name": "python",
   "nbconvert_exporter": "python",
   "pygments_lexer": "ipython3",
   "version": "3.11.0"
  }
 },
 "nbformat": 4,
 "nbformat_minor": 2
}
