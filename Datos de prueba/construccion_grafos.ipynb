{
 "cells": [
  {
   "cell_type": "markdown",
   "metadata": {},
   "source": [
    "# Librerías"
   ]
  },
  {
   "cell_type": "code",
   "execution_count": 1,
   "metadata": {},
   "outputs": [],
   "source": [
    "from tqdm import tqdm \n",
    "import networkx as nx\n",
    "import scanpy as sc\n",
    "import pandas as pd\n",
    "import numpy as np\n",
    "import pickle \n",
    "\n",
    "import seaborn as sns\n",
    "from scipy.stats import pearsonr\n",
    "from concurrent.futures import ThreadPoolExecutor"
   ]
  },
  {
   "cell_type": "markdown",
   "metadata": {},
   "source": [
    "# Funciones auxiliares"
   ]
  },
  {
   "cell_type": "code",
   "execution_count": 2,
   "metadata": {},
   "outputs": [],
   "source": [
    "def normalize(adata, filter_min_counts=True, size_factors=True, normalize_input=True, logtrans_input=True):\n",
    "    if filter_min_counts:\n",
    "        sc.pp.filter_genes(adata, min_counts=1)\n",
    "        sc.pp.filter_cells(adata, min_counts=1)\n",
    "\n",
    "    if size_factors or normalize_input or logtrans_input:\n",
    "        adata.raw = adata.copy()\n",
    "    else:\n",
    "        adata.raw = adata\n",
    "\n",
    "    if size_factors:\n",
    "        sc.pp.normalize_per_cell(adata)\n",
    "        adata.obs['size_factors'] = adata.obs.n_counts / np.median(adata.obs.n_counts)\n",
    "    else:\n",
    "        adata.obs['size_factors'] = 1.0\n",
    "\n",
    "    if logtrans_input:\n",
    "        sc.pp.log1p(adata)\n",
    "\n",
    "    if normalize_input:\n",
    "        sc.pp.scale(adata)\n",
    "\n",
    "    return adata"
   ]
  },
  {
   "cell_type": "markdown",
   "metadata": {},
   "source": [
    "# Lectura de datos"
   ]
  },
  {
   "cell_type": "code",
   "execution_count": 3,
   "metadata": {},
   "outputs": [],
   "source": [
    "# ZI Poisson\n",
    "with open('generados/zi_poisson_dim10000.pkl', 'rb') as f:\n",
    "    poisson = pickle.load(f)\n",
    "    X_p = poisson['X'].astype(np.float64)\n",
    "    y_p = np.array(poisson['y'])\n",
    "    \n",
    "# Pasar a AnnData\n",
    "anndata_p = sc.AnnData(X_p)"
   ]
  },
  {
   "cell_type": "code",
   "execution_count": 4,
   "metadata": {},
   "outputs": [],
   "source": [
    "# ZI Negative Binomial\n",
    "with open('generados/zi_negative_binomial_dim10000.pkl', 'rb') as f:\n",
    "    nb = pickle.load(f)\n",
    "    X_nb = nb['X'].astype(np.float64)\n",
    "    y_nb = np.array(nb['y'])\n",
    "\n",
    "# Pasar a AnnData\n",
    "anndata_nb = sc.AnnData(X_nb)"
   ]
  },
  {
   "cell_type": "code",
   "execution_count": null,
   "metadata": {},
   "outputs": [],
   "source": [
    "# Normalizamos por size factors\n",
    "normalize(anndata_p)"
   ]
  },
  {
   "cell_type": "code",
   "execution_count": 5,
   "metadata": {},
   "outputs": [
    {
     "data": {
      "text/plain": [
       "AnnData object with n_obs × n_vars = 7875 × 10000\n",
       "    obs: 'n_counts', 'size_factors'\n",
       "    var: 'n_counts', 'mean', 'std'\n",
       "    uns: 'log1p'"
      ]
     },
     "execution_count": 5,
     "metadata": {},
     "output_type": "execute_result"
    }
   ],
   "source": [
    "normalize(anndata_nb)"
   ]
  },
  {
   "cell_type": "code",
   "execution_count": 6,
   "metadata": {},
   "outputs": [
    {
     "name": "stdout",
     "output_type": "stream",
     "text": [
      "(7875, 10000) (9513, 10000)\n"
     ]
    }
   ],
   "source": [
    "# Guardar matrices\n",
    "X_nb = anndata_nb.X\n",
    "X_p = anndata_p.X\n",
    "\n",
    "print(X_nb.shape, X_p.shape)"
   ]
  },
  {
   "cell_type": "code",
   "execution_count": null,
   "metadata": {},
   "outputs": [],
   "source": [
    "sns.heatmap(X_p)"
   ]
  },
  {
   "cell_type": "code",
   "execution_count": null,
   "metadata": {},
   "outputs": [],
   "source": [
    "sns.heatmap(X_nb)"
   ]
  },
  {
   "cell_type": "markdown",
   "metadata": {},
   "source": [
    "# Creación del grafo"
   ]
  },
  {
   "cell_type": "code",
   "execution_count": 8,
   "metadata": {},
   "outputs": [],
   "source": [
    "X = X_nb\n",
    "celulas = X.shape[0]"
   ]
  },
  {
   "cell_type": "code",
   "execution_count": 9,
   "metadata": {},
   "outputs": [
    {
     "name": "stderr",
     "output_type": "stream",
     "text": [
      " 34%|███▍      | 2696/7875 [17:37<01:22, 63.01it/s]   "
     ]
    },
    {
     "ename": "",
     "evalue": "",
     "output_type": "error",
     "traceback": [
      "\u001b[1;31mThe Kernel crashed while executing code in the the current cell or a previous cell. Please review the code in the cell(s) to identify a possible cause of the failure. Click <a href='https://aka.ms/vscodeJupyterKernelCrash'>here</a> for more info. View Jupyter <a href='command:jupyter.viewOutput'>log</a> for further details."
     ]
    }
   ],
   "source": [
    "# Function to calculate Pearson correlation for a pair of ro\n",
    "def calculate_correlation(i, j):\n",
    "    return i, j, pearsonr(X[i, :], X[j, :])[0]\n",
    "\n",
    "# Number of threads (adjust as needed)\n",
    "num_threads = 4\n",
    "\n",
    "# Create a ThreadPoolExecutor\n",
    "with ThreadPoolExecutor(max_workers=num_threads) as executor:\n",
    "    futures = []\n",
    "\n",
    "    # Iterate over pairs of indices (i, j) in parallel\n",
    "    for i in tqdm(range(celulas)):\n",
    "        for j in range(i, celulas):\n",
    "            futures.append(executor.submit(calculate_correlation, i, j))\n",
    "\n",
    "    # Wait for all tasks to complete\n",
    "    results = [future.result() for future in tqdm(futures)]\n",
    "\n",
    "# Create the correlation matrix using the results\n",
    "correlaciones = np.zeros((celulas, celulas))\n",
    "\n",
    "for i, j, corr in results:\n",
    "    correlaciones[i, j] = corr\n",
    "    correlaciones[j, i] = corr"
   ]
  },
  {
   "cell_type": "code",
   "execution_count": null,
   "metadata": {},
   "outputs": [],
   "source": [
    "with open('generados/zi_negative_binomial_dim10000/matriz_correlacion_pearson_datos_normalizados.pickle', 'wb') as f:\n",
    "    pickle.dump(correlaciones, f)"
   ]
  },
  {
   "cell_type": "code",
   "execution_count": null,
   "metadata": {},
   "outputs": [],
   "source": []
  }
 ],
 "metadata": {
  "kernelspec": {
   "display_name": "base",
   "language": "python",
   "name": "python3"
  },
  "language_info": {
   "codemirror_mode": {
    "name": "ipython",
    "version": 3
   },
   "file_extension": ".py",
   "mimetype": "text/x-python",
   "name": "python",
   "nbconvert_exporter": "python",
   "pygments_lexer": "ipython3",
   "version": "3.11.0"
  }
 },
 "nbformat": 4,
 "nbformat_minor": 2
}
