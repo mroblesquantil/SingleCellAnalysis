{
 "cells": [
  {
   "cell_type": "code",
   "execution_count": 3,
   "metadata": {},
   "outputs": [],
   "source": [
    "import pickle \n",
    "import pandas as pd\n",
    "import numpy as np\n",
    "import h5py"
   ]
  },
  {
   "cell_type": "code",
   "execution_count": 7,
   "metadata": {},
   "outputs": [],
   "source": [
    "ngenes = 750\n",
    "ncells = 300\n",
    "clusters = 5"
   ]
  },
  {
   "cell_type": "code",
   "execution_count": 8,
   "metadata": {},
   "outputs": [
    {
     "name": "stdout",
     "output_type": "stream",
     "text": [
      "(300, 750) (300, 1)\n"
     ]
    }
   ],
   "source": [
    "y = pd.read_csv(f'generados/symsim/clusters_symsim_{ngenes}_{ncells}_{clusters}.csv')\n",
    "X = pd.read_csv(f'generados/symsim/conteos_symsim_{ngenes}_{ncells}_{clusters}.csv', sep = '\\s+').T\n",
    "\n",
    "print(X.shape, y.shape)"
   ]
  },
  {
   "cell_type": "code",
   "execution_count": 9,
   "metadata": {},
   "outputs": [],
   "source": [
    "file_name = f'generados/symsim/clusters_symsim_{ngenes}_{ncells}_{clusters}.h5'\n",
    "\n",
    "with h5py.File(file_name, 'w') as file:\n",
    "    file.create_dataset('X', data=np.array(X))\n",
    "    file.create_dataset('Y', data=np.array(y))"
   ]
  },
  {
   "cell_type": "code",
   "execution_count": null,
   "metadata": {},
   "outputs": [],
   "source": []
  }
 ],
 "metadata": {
  "kernelspec": {
   "display_name": "env_scRNA",
   "language": "python",
   "name": "python3"
  },
  "language_info": {
   "codemirror_mode": {
    "name": "ipython",
    "version": 3
   },
   "file_extension": ".py",
   "mimetype": "text/x-python",
   "name": "python",
   "nbconvert_exporter": "python",
   "pygments_lexer": "ipython3",
   "version": "3.11.0"
  }
 },
 "nbformat": 4,
 "nbformat_minor": 2
}
