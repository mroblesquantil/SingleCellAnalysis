{
 "cells": [
  {
   "cell_type": "code",
   "execution_count": 5,
   "metadata": {},
   "outputs": [],
   "source": [
    "import pickle \n",
    "import pandas as pd\n",
    "import numpy as np\n",
    "import h5py"
   ]
  },
  {
   "cell_type": "code",
   "execution_count": 20,
   "metadata": {},
   "outputs": [
    {
     "name": "stdout",
     "output_type": "stream",
     "text": [
      "(120, 300) (120, 1)\n"
     ]
    }
   ],
   "source": [
    "y = pd.read_csv('generados/symsim/clusters_symsim_300_120_3.csv')\n",
    "X = pd.read_csv('generados/symsim/conteos_symsim_300_120_3.csv', sep = '\\s+').T\n",
    "\n",
    "print(X.shape, y.shape)"
   ]
  },
  {
   "cell_type": "code",
   "execution_count": 21,
   "metadata": {},
   "outputs": [],
   "source": [
    "file_name = 'generados/symsim/clusters_symsim_300_120_3.h5'\n",
    "\n",
    "with h5py.File(file_name, 'w') as file:\n",
    "    file.create_dataset('X', data=X)\n",
    "    file.create_dataset('Y', data=y)"
   ]
  },
  {
   "cell_type": "code",
   "execution_count": 23,
   "metadata": {},
   "outputs": [
    {
     "data": {
      "text/plain": [
       "(300, 500)"
      ]
     },
     "execution_count": 23,
     "metadata": {},
     "output_type": "execute_result"
    }
   ],
   "source": [
    "file_name = 'generados/symsim/generated_symsim.h5'\n",
    "\n",
    "with h5py.File(file_name, 'r') as file:\n",
    "    X = np.array( file['X'])\n",
    "X.shape"
   ]
  },
  {
   "cell_type": "code",
   "execution_count": 32,
   "metadata": {},
   "outputs": [
    {
     "name": "stdout",
     "output_type": "stream",
     "text": [
      "(7897, 10000) (7897,)\n"
     ]
    }
   ],
   "source": [
    "with open('generados/zi_negative_binomial_dim10000.pkl', 'rb') as file:\n",
    "    f = pickle.load(file)\n",
    "    X = f['X']\n",
    "    y = f['y']\n",
    "\n",
    "print(X.shape, y.shape)"
   ]
  },
  {
   "cell_type": "code",
   "execution_count": 34,
   "metadata": {},
   "outputs": [],
   "source": [
    "file_name = 'generados/zi_negative_binomial_dim10000/generated_ZINB.h5'\n",
    "with h5py.File(file_name, 'w') as file:\n",
    "    file.create_dataset('X', data=X)\n",
    "    file.create_dataset('Y', data=y)"
   ]
  },
  {
   "cell_type": "code",
   "execution_count": 36,
   "metadata": {},
   "outputs": [
    {
     "name": "stdout",
     "output_type": "stream",
     "text": [
      "(9513, 10000) (9513,)\n"
     ]
    }
   ],
   "source": [
    "with open('generados/zi_poisson_dim10000.pkl', 'rb') as file:\n",
    "    f = pickle.load(file)\n",
    "    X = f['X']\n",
    "    y = np.array(f['y'])\n",
    "\n",
    "print(X.shape, y.shape)"
   ]
  },
  {
   "cell_type": "code",
   "execution_count": 38,
   "metadata": {},
   "outputs": [],
   "source": [
    "file_name = 'generados/zi__poisson_dim10000/generated_ZINB.h5'\n",
    "with h5py.File(file_name, 'w') as file:\n",
    "    file.create_dataset('X', data=X)\n",
    "    file.create_dataset('Y', data=y)"
   ]
  },
  {
   "cell_type": "code",
   "execution_count": null,
   "metadata": {},
   "outputs": [],
   "source": []
  }
 ],
 "metadata": {
  "kernelspec": {
   "display_name": "env_scRNA",
   "language": "python",
   "name": "python3"
  },
  "language_info": {
   "codemirror_mode": {
    "name": "ipython",
    "version": 3
   },
   "file_extension": ".py",
   "mimetype": "text/x-python",
   "name": "python",
   "nbconvert_exporter": "python",
   "pygments_lexer": "ipython3",
   "version": "3.11.0"
  }
 },
 "nbformat": 4,
 "nbformat_minor": 2
}
