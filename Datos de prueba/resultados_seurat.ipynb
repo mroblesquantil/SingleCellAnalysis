{
 "cells": [
  {
   "cell_type": "markdown",
   "metadata": {},
   "source": [
    "# Revisión de resultados de Seurat"
   ]
  },
  {
   "cell_type": "code",
   "execution_count": 53,
   "metadata": {},
   "outputs": [],
   "source": [
    "from sklearn.metrics import (calinski_harabasz_score, davies_bouldin_score, silhouette_score)\n",
    "from scipy.optimize import linear_sum_assignment\n",
    "\n",
    "from sklearn.decomposition import PCA\n",
    "from sklearn import metrics\n",
    "import pandas as pd\n",
    "import numpy as np \n",
    "import pickle "
   ]
  },
  {
   "cell_type": "code",
   "execution_count": 54,
   "metadata": {},
   "outputs": [],
   "source": [
    "import matplotlib.pyplot as plt \n",
    "import seaborn as sns"
   ]
  },
  {
   "cell_type": "markdown",
   "metadata": {},
   "source": [
    "# Funciones auxiliares"
   ]
  },
  {
   "cell_type": "code",
   "execution_count": 55,
   "metadata": {},
   "outputs": [],
   "source": [
    "def cluster_acc_plot(y_true, y_pred):\n",
    "    y_true = y_true.astype(np.int64)\n",
    "    y_pred = y_pred.astype(np.int64)\n",
    "    assert y_pred.size == y_true.size\n",
    "    D = max(y_pred.max(), y_true.max()) + 1\n",
    "    w = np.zeros((D, D), dtype=np.int64)\n",
    "    for i in range(y_pred.size):\n",
    "        w[y_pred[i], y_true[i]] += 1\n",
    "    ind = linear_sum_assignment(w.max() - w)\n",
    "    \n",
    "    df_cm = pd.DataFrame(w, index = [i for i in range(D)], columns = [i for i in range(D)])\n",
    "    plt.figure(figsize = (10,7))\n",
    "    w_order = np.zeros((D, D), dtype=np.int64)\n",
    "    for i in range(D):\n",
    "        for j in range(D):\n",
    "            w_order[i,j] = w[i, ind[1][j]]\n",
    "\n",
    "    df_cm = pd.DataFrame(w_order, index = [i for i in range(D)], columns = [i for i in ind[1]])\n",
    "    plt.figure(figsize = (10,7))\n",
    "    sns.heatmap(df_cm, annot=True, fmt='g')\n",
    "    plt.ylabel(\"Prediction\")\n",
    "    plt.xlabel(\"Ground Truth\")"
   ]
  },
  {
   "cell_type": "code",
   "execution_count": 56,
   "metadata": {},
   "outputs": [],
   "source": [
    "def cluster_acc(y_true, y_pred):\n",
    "    \"\"\"\n",
    "    Calculate clustering accuracy. Require scikit-learn installed\n",
    "    # Arguments\n",
    "        y: true labels, numpy.array with shape `(n_samples,)`\n",
    "        y_pred: predicted labels, numpy.array with shape `(n_samples,)`\n",
    "    # Return\n",
    "        accuracy, in [0,1]\n",
    "    \"\"\"\n",
    "    y_true = y_true.astype(np.int64)\n",
    "    y_pred = y_pred.astype(np.int64)\n",
    "\n",
    "    assert y_pred.size == y_true.size\n",
    "    D = max(y_pred.max(), y_true.max()) + 1\n",
    "    w = np.zeros((D, D), dtype=np.int64)\n",
    "    for i in range(y_pred.size):\n",
    "        w[y_pred[i], y_true[i]] += 1\n",
    "        \n",
    "    ind = linear_sum_assignment(w.max() - w)\n",
    "    ind = np.asarray(ind)\n",
    "    ind = np.transpose(ind)\n",
    "    return sum([w[i, j] for i, j in ind]) * 1.0 / y_pred.size"
   ]
  },
  {
   "cell_type": "code",
   "execution_count": 57,
   "metadata": {},
   "outputs": [],
   "source": [
    "def unsupervised_metrics(X, y_pred):\n",
    "    # Evaluación final de resultados: métricas comparando con los clusters reales\n",
    "    sil = np.round(silhouette_score(X, y_pred), 5)\n",
    "    chs = np.round(calinski_harabasz_score(X, y_pred), 5)\n",
    "    dbs = np.round(davies_bouldin_score(X, y_pred), 5)\n",
    "    print('Evaluating cells: SIL= %.4f, CHS= %.4f, DBS= %.4f' % (sil, chs, dbs))"
   ]
  },
  {
   "cell_type": "markdown",
   "metadata": {},
   "source": [
    "# Lectura de datos y resultados"
   ]
  },
  {
   "cell_type": "code",
   "execution_count": 58,
   "metadata": {},
   "outputs": [],
   "source": [
    "# Datos iniciales\n",
    "\n",
    "# ZI Poisson\n",
    "with open('generados/zi_poisson_dim10000.pkl', 'rb') as f:\n",
    "    poisson = pickle.load(f)\n",
    "    X_p = poisson['X']\n",
    "    y_p = np.array(poisson['y'])\n",
    "    \n",
    "# ZI Negative Binomial\n",
    "with open('generados/zi_negative_binomial_dim10000.pkl', 'rb') as f:\n",
    "    nb = pickle.load(f)\n",
    "    X_nb = nb['X']\n",
    "    y_nb = np.array(nb['y'])"
   ]
  },
  {
   "cell_type": "code",
   "execution_count": 59,
   "metadata": {},
   "outputs": [],
   "source": [
    "# Resultados Seurat\n",
    "\n",
    "clusters_p = pd.read_csv('generados/zi__poisson_dim10000/resultados/clusters.csv').seurat_clusters\n",
    "clusters_nb = pd.read_csv('generados/zi_negative_binomial_dim10000/resultados/clusters.csv').seurat_clusters"
   ]
  },
  {
   "cell_type": "markdown",
   "metadata": {},
   "source": [
    "# Métricas"
   ]
  },
  {
   "cell_type": "markdown",
   "metadata": {},
   "source": [
    "#### Poisson"
   ]
  },
  {
   "cell_type": "code",
   "execution_count": 60,
   "metadata": {},
   "outputs": [
    {
     "name": "stdout",
     "output_type": "stream",
     "text": [
      "ACC: 0.855. NMI: 0.943. ARI: 0.886.\n"
     ]
    }
   ],
   "source": [
    "acc = round(cluster_acc(clusters_p, y_p),3)\n",
    "nmi = round(metrics.normalized_mutual_info_score(clusters_p, y_p),3)\n",
    "ari = round(metrics.adjusted_rand_score(clusters_p, y_p),3)\n",
    "\n",
    "print(f\"ACC: {acc}. NMI: {nmi}. ARI: {ari}.\")"
   ]
  },
  {
   "cell_type": "code",
   "execution_count": 61,
   "metadata": {},
   "outputs": [
    {
     "name": "stdout",
     "output_type": "stream",
     "text": [
      "Evaluating cells: SIL= 0.0641, CHS= 197.9162, DBS= 3.6413\n"
     ]
    }
   ],
   "source": [
    "unsupervised_metrics(X_p, y_p)"
   ]
  },
  {
   "cell_type": "code",
   "execution_count": 62,
   "metadata": {},
   "outputs": [
    {
     "name": "stdout",
     "output_type": "stream",
     "text": [
      "Evaluating cells: SIL= 0.7466, CHS= 18991.4252, DBS= 0.3661\n"
     ]
    }
   ],
   "source": [
    "X_p_pca = PCA(n_components=32).fit_transform(X_p)\n",
    "unsupervised_metrics(X_p_pca, y_p)"
   ]
  },
  {
   "cell_type": "code",
   "execution_count": 63,
   "metadata": {},
   "outputs": [
    {
     "data": {
      "text/plain": [
       "<Figure size 1000x700 with 0 Axes>"
      ]
     },
     "metadata": {},
     "output_type": "display_data"
    },
    {
     "data": {
      "image/png": "[encoded data removed]",
      "text/plain": [
       "<Figure size 1000x700 with 2 Axes>"
      ]
     },
     "metadata": {},
     "output_type": "display_data"
    }
   ],
   "source": [
    "cluster_acc_plot(y_p, clusters_p)"
   ]
  },
  {
   "cell_type": "markdown",
   "metadata": {},
   "source": [
    "#### Negative binomial"
   ]
  },
  {
   "cell_type": "code",
   "execution_count": 64,
   "metadata": {},
   "outputs": [
    {
     "name": "stdout",
     "output_type": "stream",
     "text": [
      "ACC: 0.752. NMI: 0.847. ARI: 0.732.\n"
     ]
    }
   ],
   "source": [
    "acc = round(cluster_acc(clusters_nb, y_nb),3)\n",
    "nmi = round(metrics.normalized_mutual_info_score(clusters_nb, y_nb),3)\n",
    "ari = round(metrics.adjusted_rand_score(clusters_nb, y_nb),3)\n",
    "\n",
    "print(f\"ACC: {acc}. NMI: {nmi}. ARI: {ari}.\")"
   ]
  },
  {
   "cell_type": "code",
   "execution_count": 65,
   "metadata": {},
   "outputs": [
    {
     "name": "stdout",
     "output_type": "stream",
     "text": [
      "Evaluating cells: SIL= -0.1286, CHS= 226.7533, DBS= 6.3627\n"
     ]
    }
   ],
   "source": [
    "unsupervised_metrics(X_nb, y_nb)"
   ]
  },
  {
   "cell_type": "code",
   "execution_count": 66,
   "metadata": {},
   "outputs": [
    {
     "name": "stdout",
     "output_type": "stream",
     "text": [
      "Evaluating cells: SIL= 0.6407, CHS= 3922.7176, DBS= 0.7470\n"
     ]
    }
   ],
   "source": [
    "X_nb_pca = PCA(n_components=32).fit_transform(X_nb)\n",
    "unsupervised_metrics(X_nb_pca, y_nb)"
   ]
  },
  {
   "cell_type": "code",
   "execution_count": 67,
   "metadata": {},
   "outputs": [
    {
     "data": {
      "text/plain": [
       "<Figure size 1000x700 with 0 Axes>"
      ]
     },
     "metadata": {},
     "output_type": "display_data"
    },
    {
     "data": {
      "image/png": "[encoded data removed]",
      "text/plain": [
       "<Figure size 1000x700 with 2 Axes>"
      ]
     },
     "metadata": {},
     "output_type": "display_data"
    }
   ],
   "source": [
    "cluster_acc_plot(y_nb, clusters_nb)"
   ]
  },
  {
   "cell_type": "markdown",
   "metadata": {},
   "source": [
    "### Conclusiones:\n",
    "\n",
    "- Para aplicar métricas no supervisadas debe ser sobre la proyección (PCA) o sobre una dimensión menor.\n",
    "- Seurat tiene un buen rendimiento sobre los datos de prueba."
   ]
  }
 ],
 "metadata": {
  "kernelspec": {
   "display_name": "base",
   "language": "python",
   "name": "python3"
  },
  "language_info": {
   "codemirror_mode": {
    "name": "ipython",
    "version": 3
   },
   "file_extension": ".py",
   "mimetype": "text/x-python",
   "name": "python",
   "nbconvert_exporter": "python",
   "pygments_lexer": "ipython3",
   "version": "3.11.5"
  }
 },
 "nbformat": 4,
 "nbformat_minor": 2
}
