{
 "cells": [
  {
   "cell_type": "markdown",
   "metadata": {},
   "source": [
    "# Librerías"
   ]
  },
  {
   "cell_type": "code",
   "execution_count": 1,
   "metadata": {},
   "outputs": [],
   "source": [
    "import matplotlib.pyplot as plt\n",
    "import networkx as nx\n",
    "import seaborn as sns\n",
    "import pandas as pd\n",
    "import numpy as np\n",
    "import pickle\n",
    "import h5py"
   ]
  },
  {
   "cell_type": "code",
   "execution_count": 2,
   "metadata": {},
   "outputs": [],
   "source": [
    "import sys\n",
    "sys.path.append('../src/')\n",
    "\n",
    "from utils import *"
   ]
  },
  {
   "cell_type": "markdown",
   "metadata": {},
   "source": [
    "# Lectura de datos"
   ]
  },
  {
   "cell_type": "code",
   "execution_count": 3,
   "metadata": {},
   "outputs": [],
   "source": [
    "path_distancias = '../data/correlaciones_symsim/correlaciones.pickle'\n",
    "path_datos = '../data/Macosko_mouse_retina.h5'\n",
    "path_out = '../data/correlaciones_macosko/'"
   ]
  },
  {
   "cell_type": "code",
   "execution_count": 4,
   "metadata": {},
   "outputs": [],
   "source": [
    "with open(path_distancias, 'rb') as f:\n",
    "    correlaciones_hl = pickle.load(f)\n",
    "\n",
    "with h5py.File(path_datos) as f:\n",
    "    #X = np.array(f['X'])\n",
    "    y = np.array(f['Y'])"
   ]
  },
  {
   "cell_type": "code",
   "execution_count": 5,
   "metadata": {},
   "outputs": [],
   "source": [
    "assert len(y) == len(correlaciones_hl)"
   ]
  },
  {
   "cell_type": "code",
   "execution_count": 5,
   "metadata": {},
   "outputs": [],
   "source": [
    "#sns.heatmap(correlaciones_hl)"
   ]
  },
  {
   "cell_type": "markdown",
   "metadata": {},
   "source": [
    "# Pipeline completo"
   ]
  },
  {
   "cell_type": "code",
   "execution_count": 6,
   "metadata": {},
   "outputs": [],
   "source": [
    "def create_kMST(distance_matrix, k = None, threshold = 1e-5):\n",
    "    if k is None:\n",
    "        N = np.log(len(distance_matrix))\n",
    "        k = int(np.floor(N))\n",
    "    \n",
    "    print(f'k = {k}')\n",
    "    grafo = nx.Graph()\n",
    "    nodos = range(len(distance_matrix))\n",
    "\n",
    "    # Crear nodo inicial\n",
    "    grafo.add_nodes_from(nodos)\n",
    "\n",
    "    for i in range(len(distance_matrix)):\n",
    "        for j in range(i + 1, len(distance_matrix[i])):\n",
    "            peso = distance_matrix[i][j]\n",
    "            if peso > threshold:\n",
    "                grafo.add_edge(i, j, weight=peso)\n",
    "\n",
    "    print(f'---> Number of edges: {grafo.number_of_edges()}')\n",
    "\n",
    "    mst_antes = None\n",
    "    # Creamos los MSTs\n",
    "    for iter in range(k):\n",
    "        mst_new = nx.minimum_spanning_tree(grafo)\n",
    "\n",
    "        edges_to_remove = list(mst_new.edges)\n",
    "        grafo.remove_edges_from(edges_to_remove)\n",
    "        print(f'---> {iter}. Number of edges: {grafo.number_of_edges()}')\n",
    "\n",
    "        if mst_antes is None:\n",
    "            mst_antes = mst_new.copy()\n",
    "        else:\n",
    "            mst_new.add_edges_from(list(mst_antes.edges()))\n",
    "            mst_antes = mst_new.copy()\n",
    "\n",
    "    return mst_antes "
   ]
  },
  {
   "cell_type": "code",
   "execution_count": 8,
   "metadata": {},
   "outputs": [],
   "source": [
    "union_graph_msts = create_kMST(correlaciones_hl)"
   ]
  },
  {
   "cell_type": "code",
   "execution_count": null,
   "metadata": {},
   "outputs": [
    {
     "data": {
      "text/plain": [
       "14693"
      ]
     },
     "execution_count": 37,
     "metadata": {},
     "output_type": "execute_result"
    }
   ],
   "source": [
    "union_graph_msts.number_of_edges()"
   ]
  },
  {
   "cell_type": "code",
   "execution_count": null,
   "metadata": {},
   "outputs": [],
   "source": [
    "with open(path_out + 'grafo_kMST_correlaciones.pickle', 'wb') as f:\n",
    "    pickle.dump(union_graph_msts, f)"
   ]
  },
  {
   "cell_type": "markdown",
   "metadata": {},
   "source": [
    "# Louvain sobre el kMST"
   ]
  },
  {
   "cell_type": "code",
   "execution_count": 11,
   "metadata": {},
   "outputs": [],
   "source": [
    "with open('../data/correlaciones_10x/grafo_kMST_correlaciones.pickle', 'rb') as f:\n",
    "    mst = pickle.load(f) \n",
    "    \n",
    "with h5py.File('../data/10X_PBMC_select_2100.h5') as f:\n",
    "    X = np.array(f['X'])\n",
    "    y = np.array(f['Y'])"
   ]
  },
  {
   "cell_type": "code",
   "execution_count": 14,
   "metadata": {},
   "outputs": [],
   "source": [
    "assert mst.number_of_nodes() == len(y)"
   ]
  },
  {
   "cell_type": "code",
   "execution_count": 17,
   "metadata": {},
   "outputs": [
    {
     "data": {
      "text/plain": [
       "array([ 9, 12, 10, ...,  1, 16,  3])"
      ]
     },
     "execution_count": 17,
     "metadata": {},
     "output_type": "execute_result"
    }
   ],
   "source": [
    "particiones = nx.community.louvain_communities(mst, seed=123)\n",
    "\n",
    "diccionario = {}\n",
    "for i, conjunto in enumerate(particiones):\n",
    "    for elemento in conjunto:\n",
    "        diccionario[elemento] = i \n",
    "\n",
    "max_elemento = max(max(particiones, key = max), default=-1)\n",
    "clusters = np.array([diccionario.get(i, -1) for i in range(max_elemento + 1)])\n",
    "clusters"
   ]
  },
  {
   "cell_type": "code",
   "execution_count": 19,
   "metadata": {},
   "outputs": [
    {
     "data": {
      "text/plain": [
       "(20, 8)"
      ]
     },
     "execution_count": 19,
     "metadata": {},
     "output_type": "execute_result"
    }
   ],
   "source": [
    "len(set(clusters)), len(set(y))"
   ]
  },
  {
   "cell_type": "code",
   "execution_count": 20,
   "metadata": {},
   "outputs": [
    {
     "name": "stdout",
     "output_type": "stream",
     "text": [
      "ACC: 0.098. NMI: 0.018. ARI: 0.004\n"
     ]
    }
   ],
   "source": [
    "from sklearn.metrics import normalized_mutual_info_score, adjusted_mutual_info_score\n",
    "\n",
    "acc = round(cluster_acc(clusters,y), 3)\n",
    "nmi = round(normalized_mutual_info_score(clusters,y), 3)\n",
    "ari = round(adjusted_mutual_info_score(clusters,y), 3)\n",
    "\n",
    "print(f'ACC: {acc}. NMI: {nmi}. ARI: {ari}')"
   ]
  },
  {
   "cell_type": "code",
   "execution_count": 22,
   "metadata": {},
   "outputs": [],
   "source": [
    "with open('../data/correlaciones_human_liver/grafo_kMST_correlaciones.pickle', 'rb') as f:\n",
    "    mst = pickle.load(f) \n",
    "    \n",
    "with h5py.File('../data/HumanLiver_counts_top5000.h5') as f:\n",
    "    X = np.array(f['X'])\n",
    "    y = np.array(f['Y'])"
   ]
  },
  {
   "cell_type": "code",
   "execution_count": 23,
   "metadata": {},
   "outputs": [],
   "source": [
    "assert mst.number_of_nodes() == len(y)"
   ]
  },
  {
   "cell_type": "code",
   "execution_count": 24,
   "metadata": {},
   "outputs": [
    {
     "data": {
      "text/plain": [
       "array([4, 3, 2, ..., 3, 4, 8])"
      ]
     },
     "execution_count": 24,
     "metadata": {},
     "output_type": "execute_result"
    }
   ],
   "source": [
    "particiones = nx.community.louvain_communities(mst, seed=123)\n",
    "\n",
    "diccionario = {}\n",
    "for i, conjunto in enumerate(particiones):\n",
    "    for elemento in conjunto:\n",
    "        diccionario[elemento] = i \n",
    "\n",
    "max_elemento = max(max(particiones, key = max), default=-1)\n",
    "clusters = np.array([diccionario.get(i, -1) for i in range(max_elemento + 1)])\n",
    "clusters"
   ]
  },
  {
   "cell_type": "code",
   "execution_count": 25,
   "metadata": {},
   "outputs": [
    {
     "data": {
      "text/plain": [
       "(9, 11)"
      ]
     },
     "execution_count": 25,
     "metadata": {},
     "output_type": "execute_result"
    }
   ],
   "source": [
    "len(set(clusters)), len(set(y))"
   ]
  },
  {
   "cell_type": "code",
   "execution_count": 26,
   "metadata": {},
   "outputs": [
    {
     "name": "stdout",
     "output_type": "stream",
     "text": [
      "ACC: 0.336. NMI: 0.105. ARI: 0.103\n"
     ]
    }
   ],
   "source": [
    "from sklearn.metrics import normalized_mutual_info_score, adjusted_mutual_info_score\n",
    "\n",
    "acc = round(cluster_acc(clusters,y), 3)\n",
    "nmi = round(normalized_mutual_info_score(clusters,y), 3)\n",
    "ari = round(adjusted_mutual_info_score(clusters,y), 3)\n",
    "\n",
    "print(f'ACC: {acc}. NMI: {nmi}. ARI: {ari}')"
   ]
  },
  {
   "cell_type": "code",
   "execution_count": null,
   "metadata": {},
   "outputs": [],
   "source": []
  }
 ],
 "metadata": {
  "kernelspec": {
   "display_name": "env_scRNA",
   "language": "python",
   "name": "python3"
  },
  "language_info": {
   "codemirror_mode": {
    "name": "ipython",
    "version": 3
   },
   "file_extension": ".py",
   "mimetype": "text/x-python",
   "name": "python",
   "nbconvert_exporter": "python",
   "pygments_lexer": "ipython3",
   "version": "3.11.0"
  }
 },
 "nbformat": 4,
 "nbformat_minor": 2
}
